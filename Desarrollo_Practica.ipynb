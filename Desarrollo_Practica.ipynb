{
 "cells": [
  {
   "cell_type": "markdown",
   "metadata": {},
   "source": [
    "# <center>Aplicación de CNN para reconocimiento de Pokémon y generación de una interfaz explicativa</center>\n"
   ]
  },
  {
   "cell_type": "markdown",
   "metadata": {},
   "source": [
    "## Datos Generales.\n",
    "\n",
    "* Asignatura: Inteligencia Artificial en las Organizaciones\n",
    "* Curso: 2023/2024\n",
    "* Profesor: Agapito Ismael Ledezma Espino\n",
    "* Grupo: 85\n",
    "\n",
    "Alumnos: \n",
    "- Jonathan Jiménez Muñoz (100451132@alumnos.uc3m.es)\n",
    "- Marta Palomo Velasco (100451041@alumnos.uc3m.es)\n",
    "- Francisco Antonio Gallardo Fuentes (100451146@alumnos.uc3m.es)\n",
    "- Yago Brotón Gutiérrez (100451322@alumnos.uc3m.es)"
   ]
  },
  {
   "cell_type": "markdown",
   "metadata": {},
   "source": [
    "## Introducción\n",
    "\n",
    "El objetivo de está práctica va a ser utilizar Redes Neuronales Convolucionales para clasificar imágenes de Pokémon y, una vez identificado dicho Pokémon, construir una pequeña interfaz donde se muestren estadísticas relevantes sobre el mismo. "
   ]
  },
  {
   "cell_type": "markdown",
   "metadata": {},
   "source": [
    "## Contexto\n",
    "\n",
    "Cada año salen más y más Pokemon, habiendo actualmente más de 1000 especies diferentes, donde cada especie tiene n movimientos diferentes, 2/3 habilidades diferentes, naturalezas, tipos, etc. <br><br>\n",
    "Es por ello que las personas junior que intentan competir profesionalmente en el juego de Pokemon, se ven abrumadas por la cantidad de información que tienen que procesar, y por ello cada vez hay más y más jugadores masters (+18 años) y menos senior y junior (menos de 18 años), dado que los jugadores que antes eran junior han cambiado de categoría y cada vez hay menos jugadores nuevos que se unan a la comunidad. <br><br>\n",
    "Con esta práctica lo que queremos lograr es que, a partir de una simple imagen de un Pokemon, se muestre información relevante sobre el mismo, como por ejemplo, sus estadísticas base, sus habilidades, sus movimientos, etc, y con ello que los jugadores junior puedan aprender más rápido y tener algo más de motivación para entrar en la comunidad competitiva de Pokemon."
   ]
  },
  {
   "cell_type": "markdown",
   "metadata": {},
   "source": [
    "## Desarrollo de la práctica\n",
    "\n",
    "Esta práctica va a estar dividida en varias fases:\n",
    "\n",
    "1. Obtención de los datos: En esta fase vamos a obtener aquellas imágenes que vamos a utilizar para entrenar nuestro modelo, y vamos a preprocesarlas para que el modelo pueda entrenar con ellas. Además de obtener los datos usados para la interfaz. <br><br>\n",
    "2. Preprocesado de los datos: Una vez obtengamos todos los datos/imágenes posibles, tendremos que hacer una limpieza (eliminar duplicados, imágenes que no correspondan al Pokemon que queremos, etc), con el objetivo de tener un dataset lo más limpio posible.<br><br>\n",
    "3. División train_test y últimas preparaciones para el modelo: Tras haber preprocesado los datos, el siguiente paso es dividir el dataset en train y test, y realizar las últimas preparaciones para el modelo (generación de más imágenes, etc).<br><br>\n",
    "4. Construcción del modelo: Una vez tenemos los datos preparados, el siguiente paso es construir el modelo. Para ello, vamos a utilizar una red neuronal convolucional CNN, que es un tipo de red neuronal que se utiliza para clasificar imágenes. <br><br>\n",
    "5. Desarrollo de la Interfaz: Finalmente, con el modelo ya entrenado y seleccionado, tendremos que desarrollar una interfaz que muestre aquella información (mejores movimientos, habilidades, estadísticas, etc) que consideremos relevantes para el jugador y que le ayuden a mejorar en el juego."
   ]
  },
  {
   "cell_type": "markdown",
   "metadata": {},
   "source": [
    "### 1. Obtención de los datos\n",
    "\n",
    "Para obtener las imágenes y datos sobre los Pokémon, hemos utilizado diferentes fuentes de información, como por ejemplo:\n",
    "Kaggle: \n",
    "- https://www.kaggle.com/datasets/abcsds/pokemon\n",
    "- https://www.kaggle.com/datasets/vishalsubbiah/pokemon-images-and-types\n",
    "- https://www.kaggle.com/datasets/kvpratama/pokemon-images-dataset\n",
    "- https://www.kaggle.com/datasets/arenagrenade/the-complete-pokemon-images-data-set\n",
    "\n",
    "ImagenDex:\n",
    "- https://pokemaster.es/imagendex/\n",
    "\n",
    "Una vez hemos obtenido imágenes de todos los Pokémon, el próximo objetivo es escoger aquellos que más imágenes tenemos y a partir de ahí, obtener más imágenes de los mismos. <br>\n",
    "\n",
    "Para ello decidimos crear un pequeño script que nos permitiera obtener imágenes a partir de Google Imágenes. <br>\n",
    "\n",
    "En dicho script utilizamos las librerías: google_search, para realizar búsquedas en Google Imágenes; requests, para realizar peticiones a las páginas web y BeautifulSoup para parsear el HTML de las páginas web y obtener las imágenes. <br>\n",
    "\n",
    "En caso de requerir de más imágenes, a la hora de generar el modelo utilizaremos algunas técnicas como poner la imagen en modo espejo, rotarla, etc y así obtener hacer que nuestro modelo sea lo más preciso posible. <br>"
   ]
  },
  {
   "cell_type": "code",
   "execution_count": 12,
   "metadata": {},
   "outputs": [
    {
     "data": {
      "text/plain": [
       "'\\nimport os\\nimport requests\\nfrom bs4 import BeautifulSoup\\nfrom googlesearch import search\\n\\n# Función para la descarga de imágenes\\ndef download_all_images(query):\\n    image_links = set()\\n\\n    # Searching for the query in Google Images\\n    search_query = query + \" images\"\\n    for j in search(search_query, num=10, stop=10, pause=2):\\n        if \\'https://encrypted-tbn0.gstatic.com/images\\' in j:\\n            continue\\n        page = requests.get(j)\\n        soup = BeautifulSoup(page.content, \"html.parser\")\\n\\n        # Extracting image links\\n        for raw_img in soup.find_all(\"img\"):\\n            link = raw_img.get(\"src\")\\n            if link and link.startswith(\"http\"):\\n                image_links.add(link)\\n\\n    # Create a directory for downloaded images\\n    if not os.path.exists(query):\\n        os.makedirs(query)\\n\\n    # Download the images\\n    for i, link in enumerate(image_links):\\n        try:\\n            response = requests.get(link)\\n            file = open(os.path.join(query, f\"{query}_{i+1}.jpg\"), \"wb\")\\n            file.write(response.content)\\n            file.close()\\n        except Exception as e:\\n            print(f\"Error: {e}\")\\n            continue\\n    \\n    print(f\"Downloaded {len(image_links)} images for {query}.\")\\n    return\\n\\n\\nquery = \"squirtle in game\"  # Introducir el término aquí.\\n\\ndownload_all_images(query)\\n'"
      ]
     },
     "execution_count": 12,
     "metadata": {},
     "output_type": "execute_result"
    }
   ],
   "source": [
    "# Script para la búsqueda de imágenes en Google imágenes (descomentar si se quiere probar)\n",
    "\n",
    "# Importamos las librerías necesarias\n",
    "\"\"\"\n",
    "import os\n",
    "import requests\n",
    "from bs4 import BeautifulSoup\n",
    "from googlesearch import search\n",
    "\n",
    "# Función para la descarga de imágenes\n",
    "def download_all_images(query):\n",
    "    image_links = set()\n",
    "\n",
    "    # Searching for the query in Google Images\n",
    "    search_query = query + \" images\"\n",
    "    for j in search(search_query, num=10, stop=10, pause=2):\n",
    "        if 'https://encrypted-tbn0.gstatic.com/images' in j:\n",
    "            continue\n",
    "        page = requests.get(j)\n",
    "        soup = BeautifulSoup(page.content, \"html.parser\")\n",
    "\n",
    "        # Extracting image links\n",
    "        for raw_img in soup.find_all(\"img\"):\n",
    "            link = raw_img.get(\"src\")\n",
    "            if link and link.startswith(\"http\"):\n",
    "                image_links.add(link)\n",
    "\n",
    "    # Create a directory for downloaded images\n",
    "    if not os.path.exists(query):\n",
    "        os.makedirs(query)\n",
    "\n",
    "    # Download the images\n",
    "    for i, link in enumerate(image_links):\n",
    "        try:\n",
    "            response = requests.get(link)\n",
    "            file = open(os.path.join(query, f\"{query}_{i+1}.jpg\"), \"wb\")\n",
    "            file.write(response.content)\n",
    "            file.close()\n",
    "        except Exception as e:\n",
    "            print(f\"Error: {e}\")\n",
    "            continue\n",
    "    \n",
    "    print(f\"Downloaded {len(image_links)} images for {query}.\")\n",
    "    return\n",
    "\n",
    "\n",
    "query = \"squirtle in game\"  # Introducir el término aquí.\n",
    "\n",
    "download_all_images(query)\n",
    "\"\"\""
   ]
  },
  {
   "cell_type": "markdown",
   "metadata": {},
   "source": [
    "Una vez descargadas las imágenes, vamos a escribir un nombre en cada imagen igual, para que después sea más sencillo el preprocesado de los datos. "
   ]
  },
  {
   "cell_type": "code",
   "execution_count": 13,
   "metadata": {},
   "outputs": [
    {
     "data": {
      "text/plain": [
       "\"\\n# Importar librerías\\nimport os\\n\\npath = 'pokemon'\\n\\n# Recorremos las imágenes de la carpeta y vamos cambiando el nombre\\nfor pokemon in os.listdir(path):\\n\\ti = 0\\n\\tfor filename in os.listdir(path+'/'+pokemon):\\n\\t\\tos.rename(path+'/'+pokemon+'/'+filename, path+'/'+pokemon+'/'+pokemon+'__'+str(i)+'.png')\\n\\t\\ti += 1\\n    \\nprint('Nombres cambiados')\\n\""
      ]
     },
     "execution_count": 13,
     "metadata": {},
     "output_type": "execute_result"
    }
   ],
   "source": [
    "# Script para cambiar el nombre de las imágenes descargadas (descomentar si se quiere probar)\n",
    "\"\"\"\n",
    "# Importar librerías\n",
    "import os\n",
    "\n",
    "path = 'pokemon'\n",
    "\n",
    "# Recorremos las imágenes de la carpeta y vamos cambiando el nombre\n",
    "for pokemon in os.listdir(path):\n",
    "\ti = 0\n",
    "\tfor filename in os.listdir(path+'/'+pokemon):\n",
    "\t\tos.rename(path+'/'+pokemon+'/'+filename, path+'/'+pokemon+'/'+pokemon+'__'+str(i)+'.png')\n",
    "\t\ti += 1\n",
    "    \n",
    "print('Nombres cambiados')\n",
    "\"\"\"\n",
    "\n",
    "\n"
   ]
  },
  {
   "cell_type": "markdown",
   "metadata": {},
   "source": [
    "Con todo esto, obtuvimos muchas imágenes para cada Pokémon. Sin embargo, decidimos quedarnos con los Pokémon que más imágenes tenían, debido a que consideramos que es mejor obtener un buen modelo que funcione para una cantidad reducida de especies, que crear un modelo que funcione para muchas especies pero no sea demasiado preciso. <br>\n",
    "\n",
    "Por ello, los Pokémon que decidimos utilizar fueron los siguientes: Pikachu, Charmander, Charizard, Caterpie, Magikarp, Ratata, Geodude, Machop, Squirtle, Bulbasaur, Mew, Dragonite, Meowth, Lapras, Snorlax, Greninja, Rayquaza, Lucario, MrMime y Gengar (20 especies). <br>\n"
   ]
  },
  {
   "cell_type": "markdown",
   "metadata": {},
   "source": [
    "### 2. Preprocesado de los datos\n",
    "Debido a que utilizamos diferentes filtros en la búsqueda de imágenes para obtener las máximas posibles, nos salieron muchas imágenes duplicadas o que no se correspondían con el Pokémon que queríamos. <br>\n",
    "\n",
    "Es por ello que debíamos hacer un preprocesado de los datos, para quedarnos con el conjunto de imágenes de cada Pokémon lo más limpio y homogéneo posible. <br>\n",
    "\n",
    "Esto conyevó varias tareas: \n",
    "- Eliminación de imágenes no correspondientes al Pokémon que queríamos. Para ello simplemente una vez descargadas todas las imágenes, nos metíamos en la carpeta e íbamos eliminando una a una las imágenes que no pertenecían a dicho Pokémon.\n",
    "- Eliminación de imágenes duplicadas. En este punto nos dimos cuenta de que hacerlo a mano iba a ser prácticamente imposible, por ello decidimos crear un pequeño script que comparase las imágenes entre sí y eliminase aquellas que fueran iguales, usando la libería Pilow.\n",
    "- Normalizar, redimensionar y convertir las imágenes a escala de grises. Para ello, utilizaremos keras.preprocessing.image, que nos permite realizar estas tareas de forma muy sencilla. "
   ]
  },
  {
   "cell_type": "markdown",
   "metadata": {},
   "source": [
    "#### 2.1 Scripts usados para el preprocesdo de los datos"
   ]
  },
  {
   "cell_type": "code",
   "execution_count": 14,
   "metadata": {},
   "outputs": [
    {
     "data": {
      "text/plain": [
       "'\\nfrom PIL import Image\\nimport os\\n\\n# Ruta de la carpeta con las imágenes\\ncarpeta = \\'pokemon/Meowth\\'\\n\\n# Diccionario para almacenar las imágenes idénticas\\nimagenes_ident = {}\\n\\n# Recorriendo la carpeta y comparando cada imagen con las demás\\nfor nombre_imagen1 in os.listdir(carpeta):\\n    ruta_imagen1 = os.path.join(carpeta, nombre_imagen1)\\n    if os.path.isfile(ruta_imagen1):\\n        imagen1 = Image.open(ruta_imagen1)\\n        for nombre_imagen2 in os.listdir(carpeta):\\n            ruta_imagen2 = os.path.join(carpeta, nombre_imagen2)\\n            if os.path.isfile(ruta_imagen2) and ruta_imagen1 != ruta_imagen2:\\n                imagen2 = Image.open(ruta_imagen2)\\n                if imagen1.size == imagen2.size and list(imagen1.getdata()) == list(imagen2.getdata()):\\n                    if nombre_imagen1 not in imagenes_ident:\\n                        imagenes_ident[nombre_imagen1] = [nombre_imagen2]\\n                    else:\\n                        imagenes_ident[nombre_imagen1].append(nombre_imagen2)\\n\\n# Mostrar las imágenes idénticas encontradas\\nfor imagen, imagenes_iguales in imagenes_ident.items():\\n    print(f\"La imagen {imagen} es idéntica a: {\\', \\'.join(imagenes_iguales)}\")\\n    \\n# Sacamos la imagen duplicada de la carpeta y la movemos a otra carpeta, dejando solamente una copia de la imagen\\nfor imagen, imagenes_iguales in imagenes_ident.items():\\n    # si no existe la carpeta la creamos\\n    if not os.path.exists(\\'pokemon/duplicadas\\'):\\n        os.makedirs(\\'pokemon/duplicadas\\')\\n    # movemos la imagen a la carpeta duplicadas\\n    os.rename(carpeta + \\'/\\' + imagen, \\'pokemon/duplicadas/\\' + imagen)\\n    # borramos las imagenes duplicadas\\n    for imagen_duplicada in imagenes_iguales:\\n        os.remove(carpeta + \\'/\\' + imagen_duplicada)\\n     \\n    \\n# Si no hay imágenes idénticas, mostrar un mensaje\\nif len(imagenes_ident) == 0:\\n    print(\"No hay imágenes idénticas.\")\\n\\n'"
      ]
     },
     "execution_count": 14,
     "metadata": {},
     "output_type": "execute_result"
    }
   ],
   "source": [
    "# Script de eliminación de imágenes duplicadas (descomentar si se quiere probar)\n",
    "\"\"\"\n",
    "from PIL import Image\n",
    "import os\n",
    "\n",
    "# Ruta de la carpeta con las imágenes\n",
    "carpeta = 'pokemon/Meowth'\n",
    "\n",
    "# Diccionario para almacenar las imágenes idénticas\n",
    "imagenes_ident = {}\n",
    "\n",
    "# Recorriendo la carpeta y comparando cada imagen con las demás\n",
    "for nombre_imagen1 in os.listdir(carpeta):\n",
    "    ruta_imagen1 = os.path.join(carpeta, nombre_imagen1)\n",
    "    if os.path.isfile(ruta_imagen1):\n",
    "        imagen1 = Image.open(ruta_imagen1)\n",
    "        for nombre_imagen2 in os.listdir(carpeta):\n",
    "            ruta_imagen2 = os.path.join(carpeta, nombre_imagen2)\n",
    "            if os.path.isfile(ruta_imagen2) and ruta_imagen1 != ruta_imagen2:\n",
    "                imagen2 = Image.open(ruta_imagen2)\n",
    "                if imagen1.size == imagen2.size and list(imagen1.getdata()) == list(imagen2.getdata()):\n",
    "                    if nombre_imagen1 not in imagenes_ident:\n",
    "                        imagenes_ident[nombre_imagen1] = [nombre_imagen2]\n",
    "                    else:\n",
    "                        imagenes_ident[nombre_imagen1].append(nombre_imagen2)\n",
    "\n",
    "# Mostrar las imágenes idénticas encontradas\n",
    "for imagen, imagenes_iguales in imagenes_ident.items():\n",
    "    print(f\"La imagen {imagen} es idéntica a: {', '.join(imagenes_iguales)}\")\n",
    "    \n",
    "# Sacamos la imagen duplicada de la carpeta y la movemos a otra carpeta, dejando solamente una copia de la imagen\n",
    "for imagen, imagenes_iguales in imagenes_ident.items():\n",
    "    # si no existe la carpeta la creamos\n",
    "    if not os.path.exists('pokemon/duplicadas'):\n",
    "        os.makedirs('pokemon/duplicadas')\n",
    "    # movemos la imagen a la carpeta duplicadas\n",
    "    os.rename(carpeta + '/' + imagen, 'pokemon/duplicadas/' + imagen)\n",
    "    # borramos las imagenes duplicadas\n",
    "    for imagen_duplicada in imagenes_iguales:\n",
    "        os.remove(carpeta + '/' + imagen_duplicada)\n",
    "     \n",
    "    \n",
    "# Si no hay imágenes idénticas, mostrar un mensaje\n",
    "if len(imagenes_ident) == 0:\n",
    "    print(\"No hay imágenes idénticas.\")\n",
    "\n",
    "\"\"\""
   ]
  },
  {
   "cell_type": "code",
   "execution_count": 15,
   "metadata": {},
   "outputs": [
    {
     "data": {
      "text/plain": [
       "'\\n\\n# Importar librerías\\nimport os\\nfrom PIL import Image\\n\\n# Seleccionamos la carpeta con las imágenes a normalizar\\n\\npath = \\'pokemon\\'\\n\\n# Recorremos las imágenes de la carpeta y vamos cambiando el tamaño\\nfor pokemon in os.listdir(path):\\n\\ti = 0\\n\\tfor filename in os.listdir(path+\\'/\\'+pokemon):\\n\\t\\t# Normalizar\\n\\t\\tif (filename[-3:] == \\'svg\\'):\\n\\t\\t\\tos.remove(path+\\'/\\'+pokemon+\\'/\\'+filename)\\n\\t\\telse:\\n\\t\\t\\timg = Image.open(path+\\'/\\'+pokemon+\\'/\\'+filename)\\n\\t\\t\\timg = img.resize((128,128))\\n\\t\\t\\tos.remove(path+\\'/\\'+pokemon+\\'/\\'+filename)\\n\\t\\t\\timg.save(path+\\'/\\'+pokemon+\\'/\\'+pokemon+\\'_\\'+str(i)+\\'.png\\')\\n\\t\\t\\ti += 1\\n\\t\\t\\nprint(\\'Imágenes normalizadas\\')\\n# Eliminar todos los jpg para evitar duplicados en varios formatos\\n\\nfor filename in os.listdir(path):\\n    if filename.endswith(\".jpg\"):\\n        os.remove(path+\\'/\\'+filename)\\n        \\nprint(\\'Imágenes jpg eliminadas\\')\\n'"
      ]
     },
     "execution_count": 15,
     "metadata": {},
     "output_type": "execute_result"
    }
   ],
   "source": [
    "# Script para la normalización (descomentar si se quiere probar)\n",
    "\"\"\"\n",
    "\n",
    "# Importar librerías\n",
    "import os\n",
    "from PIL import Image\n",
    "\n",
    "# Seleccionamos la carpeta con las imágenes a normalizar\n",
    "\n",
    "path = 'pokemon'\n",
    "\n",
    "# Recorremos las imágenes de la carpeta y vamos cambiando el tamaño\n",
    "for pokemon in os.listdir(path):\n",
    "\ti = 0\n",
    "\tfor filename in os.listdir(path+'/'+pokemon):\n",
    "\t\t# Normalizar\n",
    "\t\tif (filename[-3:] == 'svg'):\n",
    "\t\t\tos.remove(path+'/'+pokemon+'/'+filename)\n",
    "\t\telse:\n",
    "\t\t\timg = Image.open(path+'/'+pokemon+'/'+filename)\n",
    "\t\t\timg = img.resize((128,128))\n",
    "\t\t\tos.remove(path+'/'+pokemon+'/'+filename)\n",
    "\t\t\timg.save(path+'/'+pokemon+'/'+pokemon+'_'+str(i)+'.png')\n",
    "\t\t\ti += 1\n",
    "\t\t\n",
    "print('Imágenes normalizadas')\n",
    "# Eliminar todos los jpg para evitar duplicados en varios formatos\n",
    "\n",
    "for filename in os.listdir(path):\n",
    "    if filename.endswith(\".jpg\"):\n",
    "        os.remove(path+'/'+filename)\n",
    "        \n",
    "print('Imágenes jpg eliminadas')\n",
    "\"\"\"\n",
    "\n"
   ]
  },
  {
   "cell_type": "code",
   "execution_count": 16,
   "metadata": {},
   "outputs": [
    {
     "data": {
      "text/plain": [
       "\"\\n# Importar librerías\\nimport os\\nimport cv2\\nimport numpy as np\\n\\n# Seleccionamos la carpeta con las imágenes a cambiar\\npath = 'pokemon'\\n\\n# Recorremos las imágenes de la carpeta y vamos aplicando el filtro\\nfor pokemon in os.listdir(path):\\n\\ti = 0\\n\\tfor filename in os.listdir(path+'/'+pokemon):\\n\\t\\t# Normalizar\\n\\t\\timg = cv2.imread(path+'/'+pokemon+'/'+filename)\\n\\t\\tgray = cv2.cvtColor(img, cv2.COLOR_BGR2GRAY)\\n\\t\\tos.remove(path+'/'+pokemon+'/'+filename)\\n\\t\\tcv2.imwrite(path+'/'+pokemon+'/'+pokemon+'_'+str(i)+'.png',gray)\\n\\t\\ti += 1\\n    \\nprint('Imágenes en escala de grises')\\n\\n\""
      ]
     },
     "execution_count": 16,
     "metadata": {},
     "output_type": "execute_result"
    }
   ],
   "source": [
    "# Script para la conversión a escala de grises (descomentar si se quiere probar)\n",
    "\n",
    "\"\"\"\n",
    "# Importar librerías\n",
    "import os\n",
    "import cv2\n",
    "import numpy as np\n",
    "\n",
    "# Seleccionamos la carpeta con las imágenes a cambiar\n",
    "path = 'pokemon'\n",
    "\n",
    "# Recorremos las imágenes de la carpeta y vamos aplicando el filtro\n",
    "for pokemon in os.listdir(path):\n",
    "\ti = 0\n",
    "\tfor filename in os.listdir(path+'/'+pokemon):\n",
    "\t\t# Normalizar\n",
    "\t\timg = cv2.imread(path+'/'+pokemon+'/'+filename)\n",
    "\t\tgray = cv2.cvtColor(img, cv2.COLOR_BGR2GRAY)\n",
    "\t\tos.remove(path+'/'+pokemon+'/'+filename)\n",
    "\t\tcv2.imwrite(path+'/'+pokemon+'/'+pokemon+'_'+str(i)+'.png',gray)\n",
    "\t\ti += 1\n",
    "    \n",
    "print('Imágenes en escala de grises')\n",
    "\n",
    "\"\"\""
   ]
  },
  {
   "cell_type": "markdown",
   "metadata": {},
   "source": [
    "Como dijimos anteriormente, a pesar de haber realizado una búsqueda masiva de imágenes, creemos que con apenas 400-1000 imágenes de cada especie no son suficientes, es por ello que vamos a utilizar técnicas como la rotación o volteo y así obtener, como mínimo, 2000 imágenes de cada especie. Para ello, podemos hacerlo de dos maneras:\n",
    "1. Realizarlo directamente sobre el conjunto de imágenes.\n",
    "2. Realizar la división del conjunto de imágenes en train y test y aplicar las técnicas de rotación y volteo sobre el conjunto de train.\n",
    "\n",
    "Cualquiera de las opciones debería ser correcta, pero hemos decidido realizar la segunda opción, ya que así podemos usar directamente el conjunto de train a la hora de crear el modelo y no tendríamos que hacer una división posteriormente, es decir, nos ahorra un paso."
   ]
  },
  {
   "cell_type": "code",
   "execution_count": 17,
   "metadata": {},
   "outputs": [
    {
     "data": {
      "text/plain": [
       "\"\\n# Generamos 3000 imágenes de cada especie a partir de las 400-1000 que teníamos.\\n\\n# Importamos librerías\\nfrom keras.preprocessing.image import ImageDataGenerator\\nimport random\\n\\n# Generador de imágenes\\ngenerador_imagenes = ImageDataGenerator(rotation_range=10, # Rotación aleatoria de la imagen\\n                                        width_shift_range=0.1, # Desplazamiento horizontal aleatorio\\n                                        height_shift_range=0.1, # Desplazamiento vertical aleatorio\\n                                        zoom_range=0.1, # Zoom aleatorio\\n                                        horizontal_flip=True) # Volteo horizontal\\n\\n# Generamos 50 imágenes de cada imagen que tenemos y se guardan en la carpeta de la clase correspondiente\\nfor elemento in clases:\\n    # Recorremos las imágenes de cada clase\\n    for filename in os.listdir(path+'/'+elemento):\\n        # Añadimos la imagen a la lista X\\n        img = cv2.imread(path+'/'+elemento+'/'+filename)\\n        # Revisar que todas las imágenes tienen el mismo tamaño\\n        img = cv2.resize(img, (128,128))\\n        # Cambiamos la dimensión de la imagen\\n        img = img.reshape([-1, 128, 128, 3])\\n        # Generamos las imágenes\\n        generador_imagenes.fit(img)\\n        imagenes_generadas = generador_imagenes.flow(img, batch_size=50, save_to_dir=path+'/'+elemento, save_prefix='aug', save_format='png')\\n        # Guardamos las imágenes\\n        for i in range(10):\\n            imagenes_generadas.next()\\n            \\nprint('Imágenes generadas')\\n\""
      ]
     },
     "execution_count": 17,
     "metadata": {},
     "output_type": "execute_result"
    }
   ],
   "source": [
    "# Generamos más imágenes (descomentar si se quiere probar)\n",
    "\"\"\"\n",
    "# Generamos 3000 imágenes de cada especie a partir de las 400-1000 que teníamos.\n",
    "\n",
    "# Importamos librerías\n",
    "from keras.preprocessing.image import ImageDataGenerator\n",
    "import random\n",
    "\n",
    "# Generador de imágenes\n",
    "generador_imagenes = ImageDataGenerator(rotation_range=10, # Rotación aleatoria de la imagen\n",
    "                                        width_shift_range=0.1, # Desplazamiento horizontal aleatorio\n",
    "                                        height_shift_range=0.1, # Desplazamiento vertical aleatorio\n",
    "                                        zoom_range=0.1, # Zoom aleatorio\n",
    "                                        horizontal_flip=True) # Volteo horizontal\n",
    "\n",
    "# Generamos 50 imágenes de cada imagen que tenemos y se guardan en la carpeta de la clase correspondiente\n",
    "for elemento in clases:\n",
    "    # Recorremos las imágenes de cada clase\n",
    "    for filename in os.listdir(path+'/'+elemento):\n",
    "        # Añadimos la imagen a la lista X\n",
    "        img = cv2.imread(path+'/'+elemento+'/'+filename)\n",
    "        # Revisar que todas las imágenes tienen el mismo tamaño\n",
    "        img = cv2.resize(img, (128,128))\n",
    "        # Cambiamos la dimensión de la imagen\n",
    "        img = img.reshape([-1, 128, 128, 3])\n",
    "        # Generamos las imágenes\n",
    "        generador_imagenes.fit(img)\n",
    "        imagenes_generadas = generador_imagenes.flow(img, batch_size=50, save_to_dir=path+'/'+elemento, save_prefix='aug', save_format='png')\n",
    "        # Guardamos las imágenes\n",
    "        for i in range(10):\n",
    "            imagenes_generadas.next()\n",
    "            \n",
    "print('Imágenes generadas')\n",
    "\"\"\""
   ]
  },
  {
   "cell_type": "markdown",
   "metadata": {},
   "source": [
    "Con esto, conseguimos tener un dataset lo más limpio posible y preparado para el siguiente punto: realización del modelo y entrenamiento <directorio ./Pokemon>"
   ]
  },
  {
   "cell_type": "markdown",
   "metadata": {},
   "source": [
    "### 3. Entrenamiento del modelo"
   ]
  },
  {
   "cell_type": "markdown",
   "metadata": {},
   "source": [
    "Antes de comenzar con la creación del modelo, vamos a visualizar a través de gráficas las diferentes clases que tenemos en nuestro dataset, con el objetivo de ver el número de imágenes que tenemos para cada clase, si hay desbalanceo o no. Recordamos que como tenemos 20 pokémon, el número de clases será 20. <br>\n",
    "Para la realización de este modelo, nos hemos basado en páginas de referencia tales como: stackoverflow, tensorflow y keras; en los cuales hemos usado el código que nos proporcionan, realizando las modificaciones necesarias para adaptarlo a nuestro problema. <br>\n",
    "- TensorFlow: https://www.tensorflow.org/tutorials/images/classification\n",
    "- Keras: https://keras.io/examples/vision/image_classification_from_scratch/\n",
    "- Stackoverflow: usado para resolver dudas puntuales."
   ]
  },
  {
   "cell_type": "code",
   "execution_count": 3,
   "metadata": {},
   "outputs": [
    {
     "name": "stdout",
     "output_type": "stream",
     "text": [
      "Número total de clases:  151\n",
      "Número de imágenes por clase:  {'Abra': 935, 'Aerodactyl': 1176, 'Alakazam': 1112, 'Arbok': 1478, 'Arcanine': 1414, 'Articuno': 1308, 'Beedrill': 557, 'Bellsprout': 583, 'Blastoise': 653, 'Bulbasaur': 321, 'Butterfree': 696, 'Caterpie': 646, 'Chansey': 612, 'Charizard': 546, 'Charmander': 702, 'Charmeleon': 686, 'Clefable': 531, 'Clefairy': 629, 'Cloyster': 627, 'Cubone': 617, 'Dewgong': 701, 'Diglett': 525, 'Ditto': 516, 'Dodrio': 674, 'Doduo': 511, 'Dragonair': 657, 'Dragonite': 613, 'Dratini': 766, 'Drowzee': 625, 'Dugtrio': 684, 'Eevee': 378, 'Ekans': 549, 'Electabuzz': 559, 'Electrode': 701, 'Exeggcute': 594, 'Exeggutor': 715, 'Farfetchd': 651, 'Fearow': 500, 'Flareon': 600, 'Gastly': 532, 'Gengar': 373, 'Geodude': 712, 'Gloom': 612, 'Golbat': 716, 'Goldeen': 605, 'Golduck': 637, 'Golem': 675, 'Graveler': 611, 'Greninja': 323, 'Grimer': 682, 'Growlithe': 708, 'Gyarados': 697, 'Haunter': 660, 'Hitmonchan': 646, 'Hitmonlee': 693, 'Horsea': 647, 'Hypno': 643, 'Ivysaur': 569, 'Jigglypuff': 690, 'Jolteon': 680, 'Jynx': 619, 'Kabuto': 590, 'Kabutops': 681, 'Kadabra': 637, 'Kakuna': 688, 'Kangaskhan': 648, 'Kingler': 715, 'Koffing': 678, 'Krabby': 667, 'Lapras': 533, 'Lickitung': 688, 'Machamp': 723, 'Machoke': 544, 'Machop': 747, 'Magikarp': 451, 'Magmar': 617, 'Magnemite': 639, 'Magneton': 606, 'Mankey': 760, 'Marowak': 717, 'Meowth': 829, 'Metapod': 679, 'Mew': 691, 'Mewtwo': 730, 'Moltres': 653, 'MrMime': 291, 'Muk': 732, 'Nidoking': 714, 'Nidoqueen': 669, 'Nidorina': 623, 'Nidorino': 655, 'Ninetales': 764, 'Oddish': 688, 'Omanyte': 582, 'Omastar': 596, 'Onix': 676, 'Paras': 574, 'Parasect': 556, 'Persian': 601, 'Pidgeot': 696, 'Pidgeotto': 642, 'Pidgey': 759, 'Pikachu': 1190, 'Pinsir': 655, 'Poliwag': 685, 'Poliwhirl': 655, 'Poliwrath': 654, 'Ponyta': 684, 'Porygon': 576, 'Primeape': 725, 'Psyduck': 1038, 'Raichu': 732, 'Rapidash': 862, 'Raticate': 716, 'Rattata': 360, 'Rayquaza': 567, 'Rhydon': 619, 'Rhyhorn': 703, 'Sandshrew': 696, 'Sandslash': 751, 'Scyther': 698, 'Seadra': 687, 'Seaking': 676, 'Seel': 638, 'Shellder': 843, 'Slowbro': 662, 'Slowpoke': 634, 'Snorlax': 600, 'Spearow': 1160, 'Squirtle': 729, 'Starmie': 618, 'Staryu': 626, 'Tangela': 663, 'Tauros': 699, 'Tentacool': 601, 'Tentacruel': 590, 'Vaporeon': 713, 'Venomoth': 690, 'Venonat': 590, 'Venusaur': 669, 'Victreebel': 574, 'Vileplume': 703, 'Voltorb': 688, 'Vulpix': 709, 'Wartortle': 637, 'Weedle': 618, 'Weepinbell': 534, 'Weezing': 658, 'Wigglytuff': 686, 'Zapdos': 611, 'Zubat': 512}\n"
     ]
    },
    {
     "data": {
      "image/png": "[encoded data removed]",
      "text/plain": [
       "<Figure size 640x480 with 1 Axes>"
      ]
     },
     "metadata": {},
     "output_type": "display_data"
    }
   ],
   "source": [
    "# Script para pre-visualizar las clases y el número de imágenes por clase (descomentar si se quiere probar)\n",
    "\n",
    "# Importar librerías\n",
    "import os\n",
    "import cv2\n",
    "import numpy as np\n",
    "import matplotlib.pyplot as plt\n",
    "\n",
    "# Seleccionamos la carpeta con las diferentes clases\n",
    "path = 'pokemon'\n",
    "clases = os.listdir(path) # Lista con las clases\n",
    "print(\"Número total de clases: \", len(clases))\n",
    "\n",
    "# Creamos un diccionario para almacenar el número de imágenes por clase\n",
    "num_imagenes = {}\n",
    "for elemento in clases:\n",
    "    num_imagenes[elemento] = len(os.listdir(path+'/'+elemento))\n",
    "    \n",
    "print(\"Número de imágenes por clase: \", num_imagenes)\n",
    "\n",
    "# cogemos solo las 5 clases con más imágenes\n",
    "#num_imagenes = {k: v for k, v in sorted(num_imagenes.items(), key=lambda item: item[1], reverse=True)[:5]}\n",
    "#clases = list(num_imagenes.keys())\n",
    "#print(\"Número de clases: \", len(clases))\n",
    "#print(\"Número de imágenes por clase: \", num_imagenes)\n",
    "\n",
    "# Dibujamos la gráfica\n",
    "plt.bar(range(len(num_imagenes)), list(num_imagenes.values()), align='center')\n",
    "plt.xticks(range(len(num_imagenes)), list(num_imagenes.keys()))\n",
    "plt.show()"
   ]
  },
  {
   "cell_type": "code",
   "execution_count": 4,
   "metadata": {},
   "outputs": [
    {
     "name": "stdout",
     "output_type": "stream",
     "text": [
      "Número de imágenes:  101391\n",
      "Número de etiquetas:  101391\n",
      "Forma de X_train:  (81112, 128, 128, 3)\n",
      "Forma de X_test:  (20279, 128, 128, 3)\n",
      "Forma de Y_train:  (81112,)\n",
      "Forma de Y_test:  (20279,)\n"
     ]
    }
   ],
   "source": [
    "# Definimos el Conjunto X e Y, donde X son las imágenes y Y las clases\n",
    "\n",
    "# Importar librerías\n",
    "from sklearn.model_selection import train_test_split\n",
    "from sklearn.preprocessing import LabelEncoder\n",
    "from keras.utils import to_categorical\n",
    "from collections import Counter\n",
    "\n",
    "X = [] # Lista con las imágenes\n",
    "Y = [] # Lista de etiquetas\n",
    "\n",
    "# Recorremos las clases\n",
    "for elemento in clases:\n",
    "    # Recorremos las imágenes de cada clase\n",
    "    for filename in os.listdir(path+'/'+elemento):\n",
    "        # Añadimos la imagen a la lista X\n",
    "        img = cv2.imread(path+'/'+elemento+'/'+filename)\n",
    "        # Revisar que todas las imágenes tienen el mismo tamaño\n",
    "        img = cv2.resize(img, (128,128))\n",
    "        X.append(img)\n",
    "        Y.append(elemento)\n",
    "        \n",
    "# Imprimimos la longitud de las listas\n",
    "print(\"Número de imágenes: \", len(X))\n",
    "print(\"Número de etiquetas: \", len(Y))\n",
    "\n",
    "# Convertimos las listas a arrays de numpy\n",
    "X = np.array(X)\n",
    "Y = np.array(Y)\n",
    " \n",
    "# División del conjunto de datos en entrenamiento y test\n",
    "X_train, X_test, Y_train, Y_test = train_test_split(X, Y, test_size=0.2, random_state=22, stratify=Y, shuffle=True)\n",
    "print(\"Forma de X_train: \", X_train.shape)\n",
    "print(\"Forma de X_test: \", X_test.shape)\n",
    "print(\"Forma de Y_train: \", Y_train.shape)\n",
    "print(\"Forma de Y_test: \", Y_test.shape)\n",
    "\n",
    "# Codificación one hot de las etiquetas\n",
    "encoder = LabelEncoder() \n",
    "encoder.fit(Y_train)\n",
    "Y_train = encoder.transform(Y_train)\n",
    "Y_test = encoder.transform(Y_test)\n",
    "Y_train = to_categorical(Y_train, num_classes=151)\n",
    "Y_test = to_categorical(Y_test, num_classes=151)\n"
   ]
  },
  {
   "cell_type": "markdown",
   "metadata": {},
   "source": [
    "Como dijimos antes, vamos a generar más imágenes a aprtir de técnicas como la rotación, modo espejo, zoom, etc. Para ello, vamos a utilizar la librería ImageDataGenerator de keras, que nos permite realizar estas técnicas de forma muy sencilla. <br>"
   ]
  },
  {
   "cell_type": "code",
   "execution_count": 20,
   "metadata": {},
   "outputs": [
    {
     "data": {
      "text/plain": [
       "'import tensorflow as tf\\nfrom tensorflow.keras.preprocessing.image import ImageDataGenerator\\n\\ngenerador_imagenes = ImageDataGenerator(rotation_range = 45, # Graus de rotación\\n                            zoom_range = 0.2, # Zoom a aplicar\\n                            horizontal_flip = True, # Volteo horizontal\\n                            width_shift_range = 0.15, # Desplazamiento horizontal\\n                            height_shift_range = 0.15, # Desplazamiento vertical\\n                            shear_range = 0.2) # Cizallamiento\\n\\ngenerador_imagenes.fit(X_train)'"
      ]
     },
     "execution_count": 20,
     "metadata": {},
     "output_type": "execute_result"
    }
   ],
   "source": [
    "\"\"\"import tensorflow as tf\n",
    "from tensorflow.keras.preprocessing.image import ImageDataGenerator\n",
    "\n",
    "generador_imagenes = ImageDataGenerator(rotation_range = 45, # Graus de rotación\n",
    "                            zoom_range = 0.2, # Zoom a aplicar\n",
    "                            horizontal_flip = True, # Volteo horizontal\n",
    "                            width_shift_range = 0.15, # Desplazamiento horizontal\n",
    "                            height_shift_range = 0.15, # Desplazamiento vertical\n",
    "                            shear_range = 0.2) # Cizallamiento\n",
    "\n",
    "generador_imagenes.fit(X_train)\"\"\""
   ]
  },
  {
   "cell_type": "markdown",
   "metadata": {},
   "source": [
    "### 4. Construcción del modelo "
   ]
  },
  {
   "cell_type": "markdown",
   "metadata": {},
   "source": [
    "Una vez tenemos ya el conjunto de datos dividido en train and test, todas las imágenes necesarias generadas y el dataset limpio y preparado, vamos a proceder a la creación del modelo CNN. <br>\n",
    "Para ello seguiremos utilizando la librerçia Keras, la cual nos parece muy útil para realizar esta construcción y, además, contiene muchos ejemplos reales y en los cuales podemos orientarnos a la hora de realizar nuestro modelo. <br>\n",
    "A la hora de su realización, podemos basarnos en varios tipos de enfoque: <br> \n",
    "1. Secuencial: se trata de una pila de capas de redes neuronales, en la cual cada capa tiene una entrada y una salida: https://keras.io/guides/sequential_model/ <br>\n",
    "2. Funcional: se trata de un modelo más complejo, en el cual podemos tener varias entradas y salidas, y además podemos tener capas compartidas: https://keras.io/guides/functional_api/<br>\n",
    "\n",
    "Nosotros hemos decidido utilizar el modelo secuencial, ya que consideramos que es más sencillo y más adecuado para nuestro problema dado que como lo que queremos hacer es que, dada una imagen se genere una interfaz que nos diga que Pokémon es, solo necesitamos de una entrada y una salida. <br>"
   ]
  },
  {
   "cell_type": "code",
   "execution_count": 21,
   "metadata": {},
   "outputs": [
    {
     "name": "stdout",
     "output_type": "stream",
     "text": [
      "WARNING:tensorflow:From C:\\Users\\sonia\\AppData\\Local\\Packages\\PythonSoftwareFoundation.Python.3.11_qbz5n2kfra8p0\\LocalCache\\local-packages\\Python311\\site-packages\\keras\\src\\backend.py:873: The name tf.get_default_graph is deprecated. Please use tf.compat.v1.get_default_graph instead.\n",
      "\n",
      "WARNING:tensorflow:From C:\\Users\\sonia\\AppData\\Local\\Packages\\PythonSoftwareFoundation.Python.3.11_qbz5n2kfra8p0\\LocalCache\\local-packages\\Python311\\site-packages\\keras\\src\\layers\\normalization\\batch_normalization.py:979: The name tf.nn.fused_batch_norm is deprecated. Please use tf.compat.v1.nn.fused_batch_norm instead.\n",
      "\n",
      "Model: \"sequential\"\n",
      "_________________________________________________________________\n",
      " Layer (type)                Output Shape              Param #   \n",
      "=================================================================\n",
      " conv2d (Conv2D)             (None, 128, 128, 32)      896       \n",
      "                                                                 \n",
      " batch_normalization (Batch  (None, 128, 128, 32)      128       \n",
      " Normalization)                                                  \n",
      "                                                                 \n",
      " max_pooling2d (MaxPooling2  (None, 64, 64, 32)        0         \n",
      " D)                                                              \n",
      "                                                                 \n",
      " dropout (Dropout)           (None, 64, 64, 32)        0         \n",
      "                                                                 \n",
      " conv2d_1 (Conv2D)           (None, 64, 64, 64)        18496     \n",
      "                                                                 \n",
      " batch_normalization_1 (Bat  (None, 64, 64, 64)        256       \n",
      " chNormalization)                                                \n",
      "                                                                 \n",
      " conv2d_2 (Conv2D)           (None, 64, 64, 64)        36928     \n",
      "                                                                 \n",
      " batch_normalization_2 (Bat  (None, 64, 64, 64)        256       \n",
      " chNormalization)                                                \n",
      "                                                                 \n",
      " max_pooling2d_1 (MaxPoolin  (None, 32, 32, 64)        0         \n",
      " g2D)                                                            \n",
      "                                                                 \n",
      " dropout_1 (Dropout)         (None, 32, 32, 64)        0         \n",
      "                                                                 \n",
      " conv2d_3 (Conv2D)           (None, 32, 32, 128)       73856     \n",
      "                                                                 \n",
      " batch_normalization_3 (Bat  (None, 32, 32, 128)       512       \n",
      " chNormalization)                                                \n",
      "                                                                 \n",
      " conv2d_4 (Conv2D)           (None, 32, 32, 128)       147584    \n",
      "                                                                 \n",
      " batch_normalization_4 (Bat  (None, 32, 32, 128)       512       \n",
      " chNormalization)                                                \n",
      "                                                                 \n",
      " max_pooling2d_2 (MaxPoolin  (None, 16, 16, 128)       0         \n",
      " g2D)                                                            \n",
      "                                                                 \n",
      " dropout_2 (Dropout)         (None, 16, 16, 128)       0         \n",
      "                                                                 \n",
      " conv2d_5 (Conv2D)           (None, 16, 16, 256)       295168    \n",
      "                                                                 \n",
      " batch_normalization_5 (Bat  (None, 16, 16, 256)       1024      \n",
      " chNormalization)                                                \n",
      "                                                                 \n",
      " conv2d_6 (Conv2D)           (None, 16, 16, 256)       590080    \n",
      "                                                                 \n",
      " batch_normalization_6 (Bat  (None, 16, 16, 256)       1024      \n",
      " chNormalization)                                                \n",
      "                                                                 \n",
      " max_pooling2d_3 (MaxPoolin  (None, 8, 8, 256)         0         \n",
      " g2D)                                                            \n",
      "                                                                 \n",
      " dropout_3 (Dropout)         (None, 8, 8, 256)         0         \n",
      "                                                                 \n",
      " flatten (Flatten)           (None, 16384)             0         \n",
      "                                                                 \n",
      " dense (Dense)               (None, 512)               8389120   \n",
      "                                                                 \n",
      " batch_normalization_7 (Bat  (None, 512)               2048      \n",
      " chNormalization)                                                \n",
      "                                                                 \n",
      " dropout_4 (Dropout)         (None, 512)               0         \n",
      "                                                                 \n",
      " dense_1 (Dense)             (None, 256)               131328    \n",
      "                                                                 \n",
      " batch_normalization_8 (Bat  (None, 256)               1024      \n",
      " chNormalization)                                                \n",
      "                                                                 \n",
      " dropout_5 (Dropout)         (None, 256)               0         \n",
      "                                                                 \n",
      " dense_2 (Dense)             (None, 151)               38807     \n",
      "                                                                 \n",
      "=================================================================\n",
      "Total params: 9729047 (37.11 MB)\n",
      "Trainable params: 9725655 (37.10 MB)\n",
      "Non-trainable params: 3392 (13.25 KB)\n",
      "_________________________________________________________________\n",
      "Número de imágenes de entrenamiento:  81112\n",
      "WARNING:tensorflow:From C:\\Users\\sonia\\AppData\\Local\\Packages\\PythonSoftwareFoundation.Python.3.11_qbz5n2kfra8p0\\LocalCache\\local-packages\\Python311\\site-packages\\keras\\src\\optimizers\\__init__.py:309: The name tf.train.Optimizer is deprecated. Please use tf.compat.v1.train.Optimizer instead.\n",
      "\n",
      "Epoch 1/20\n",
      "WARNING:tensorflow:From C:\\Users\\sonia\\AppData\\Local\\Packages\\PythonSoftwareFoundation.Python.3.11_qbz5n2kfra8p0\\LocalCache\\local-packages\\Python311\\site-packages\\keras\\src\\utils\\tf_utils.py:492: The name tf.ragged.RaggedTensorValue is deprecated. Please use tf.compat.v1.ragged.RaggedTensorValue instead.\n",
      "\n",
      "WARNING:tensorflow:From C:\\Users\\sonia\\AppData\\Local\\Packages\\PythonSoftwareFoundation.Python.3.11_qbz5n2kfra8p0\\LocalCache\\local-packages\\Python311\\site-packages\\keras\\src\\engine\\base_layer_utils.py:384: The name tf.executing_eagerly_outside_functions is deprecated. Please use tf.compat.v1.executing_eagerly_outside_functions instead.\n",
      "\n",
      "2534/2534 [==============================] - ETA: 0s - loss: 4.8475 - accuracy: 0.0460\n",
      "Epoch 1: val_accuracy improved from -inf to 0.10775, saving model to modelo_check_1000_151_20.hdf5\n"
     ]
    },
    {
     "name": "stderr",
     "output_type": "stream",
     "text": [
      "C:\\Users\\sonia\\AppData\\Local\\Packages\\PythonSoftwareFoundation.Python.3.11_qbz5n2kfra8p0\\LocalCache\\local-packages\\Python311\\site-packages\\keras\\src\\engine\\training.py:3103: UserWarning: You are saving your model as an HDF5 file via `model.save()`. This file format is considered legacy. We recommend using instead the native Keras format, e.g. `model.save('my_model.keras')`.\n",
      "  saving_api.save_model(\n"
     ]
    },
    {
     "name": "stdout",
     "output_type": "stream",
     "text": [
      "2534/2534 [==============================] - 1418s 558ms/step - loss: 4.8475 - accuracy: 0.0460 - val_loss: 4.2076 - val_accuracy: 0.1077\n",
      "Epoch 2/20\n",
      "2534/2534 [==============================] - ETA: 0s - loss: 4.1013 - accuracy: 0.1226\n",
      "Epoch 2: val_accuracy improved from 0.10775 to 0.22195, saving model to modelo_check_1000_151_20.hdf5\n",
      "2534/2534 [==============================] - 1410s 556ms/step - loss: 4.1013 - accuracy: 0.1226 - val_loss: 3.5271 - val_accuracy: 0.2220\n",
      "Epoch 3/20\n",
      "2534/2534 [==============================] - ETA: 0s - loss: 3.4127 - accuracy: 0.2339\n",
      "Epoch 3: val_accuracy improved from 0.22195 to 0.32738, saving model to modelo_check_1000_151_20.hdf5\n",
      "2534/2534 [==============================] - 1415s 559ms/step - loss: 3.4127 - accuracy: 0.2339 - val_loss: 2.9474 - val_accuracy: 0.3274\n",
      "Epoch 4/20\n",
      "2534/2534 [==============================] - ETA: 0s - loss: 2.7390 - accuracy: 0.3528\n",
      "Epoch 4: val_accuracy improved from 0.32738 to 0.34548, saving model to modelo_check_1000_151_20.hdf5\n",
      "2534/2534 [==============================] - 1406s 555ms/step - loss: 2.7390 - accuracy: 0.3528 - val_loss: 2.9114 - val_accuracy: 0.3455\n",
      "Epoch 5/20\n",
      "2534/2534 [==============================] - ETA: 0s - loss: 2.2239 - accuracy: 0.4558\n",
      "Epoch 5: val_accuracy improved from 0.34548 to 0.59653, saving model to modelo_check_1000_151_20.hdf5\n",
      "2534/2534 [==============================] - 1434s 566ms/step - loss: 2.2239 - accuracy: 0.4558 - val_loss: 1.6337 - val_accuracy: 0.5965\n",
      "Epoch 6/20\n",
      "2534/2534 [==============================] - ETA: 0s - loss: 1.8882 - accuracy: 0.5236\n",
      "Epoch 6: val_accuracy improved from 0.59653 to 0.67183, saving model to modelo_check_1000_151_20.hdf5\n",
      "2534/2534 [==============================] - 1452s 573ms/step - loss: 1.8882 - accuracy: 0.5236 - val_loss: 1.3101 - val_accuracy: 0.6718\n",
      "Epoch 7/20\n",
      "2534/2534 [==============================] - ETA: 0s - loss: 1.5965 - accuracy: 0.5855\n",
      "Epoch 7: val_accuracy did not improve from 0.67183\n",
      "2534/2534 [==============================] - 1424s 562ms/step - loss: 1.5965 - accuracy: 0.5855 - val_loss: 1.8594 - val_accuracy: 0.5482\n",
      "Epoch 8/20\n",
      "2534/2534 [==============================] - ETA: 0s - loss: 1.3815 - accuracy: 0.6344\n",
      "Epoch 8: val_accuracy improved from 0.67183 to 0.74096, saving model to modelo_check_1000_151_20.hdf5\n",
      "2534/2534 [==============================] - 1422s 561ms/step - loss: 1.3815 - accuracy: 0.6344 - val_loss: 0.9983 - val_accuracy: 0.7410\n",
      "Epoch 9/20\n",
      "2534/2534 [==============================] - ETA: 0s - loss: 1.2291 - accuracy: 0.6689\n",
      "Epoch 9: val_accuracy did not improve from 0.74096\n",
      "2534/2534 [==============================] - 1583s 625ms/step - loss: 1.2291 - accuracy: 0.6689 - val_loss: 1.0931 - val_accuracy: 0.7210\n",
      "Epoch 10/20\n",
      "2534/2534 [==============================] - ETA: 0s - loss: 1.0948 - accuracy: 0.6990\n",
      "Epoch 10: val_accuracy improved from 0.74096 to 0.77154, saving model to modelo_check_1000_151_20.hdf5\n",
      "2534/2534 [==============================] - 1723s 680ms/step - loss: 1.0948 - accuracy: 0.6990 - val_loss: 0.8577 - val_accuracy: 0.7715\n",
      "Epoch 11/20\n",
      "2534/2534 [==============================] - ETA: 0s - loss: 0.9945 - accuracy: 0.7238\n",
      "Epoch 11: val_accuracy improved from 0.77154 to 0.77898, saving model to modelo_check_1000_151_20.hdf5\n",
      "2534/2534 [==============================] - 1748s 690ms/step - loss: 0.9945 - accuracy: 0.7238 - val_loss: 0.8479 - val_accuracy: 0.7790\n",
      "Epoch 12/20\n",
      "2534/2534 [==============================] - ETA: 0s - loss: 0.8916 - accuracy: 0.7501\n",
      "Epoch 12: val_accuracy improved from 0.77898 to 0.79861, saving model to modelo_check_1000_151_20.hdf5\n",
      "2534/2534 [==============================] - 1742s 687ms/step - loss: 0.8916 - accuracy: 0.7501 - val_loss: 0.7479 - val_accuracy: 0.7986\n",
      "Epoch 13/20\n",
      "2534/2534 [==============================] - ETA: 0s - loss: 0.8093 - accuracy: 0.7715\n",
      "Epoch 13: val_accuracy did not improve from 0.79861\n",
      "2534/2534 [==============================] - 1690s 667ms/step - loss: 0.8093 - accuracy: 0.7715 - val_loss: 0.8235 - val_accuracy: 0.7832\n",
      "Epoch 14/20\n",
      "2534/2534 [==============================] - ETA: 0s - loss: 0.7572 - accuracy: 0.7839\n",
      "Epoch 14: val_accuracy improved from 0.79861 to 0.82154, saving model to modelo_check_1000_151_20.hdf5\n",
      "2534/2534 [==============================] - 1477s 583ms/step - loss: 0.7572 - accuracy: 0.7839 - val_loss: 0.6845 - val_accuracy: 0.8215\n",
      "Epoch 15/20\n",
      "2534/2534 [==============================] - ETA: 0s - loss: 0.6949 - accuracy: 0.7997\n",
      "Epoch 15: val_accuracy did not improve from 0.82154\n",
      "2534/2534 [==============================] - 1460s 576ms/step - loss: 0.6949 - accuracy: 0.7997 - val_loss: 1.0703 - val_accuracy: 0.7310\n",
      "Epoch 16/20\n",
      "2534/2534 [==============================] - ETA: 0s - loss: 0.6596 - accuracy: 0.8081\n",
      "Epoch 16: val_accuracy improved from 0.82154 to 0.84225, saving model to modelo_check_1000_151_20.hdf5\n",
      "2534/2534 [==============================] - 1435s 566ms/step - loss: 0.6596 - accuracy: 0.8081 - val_loss: 0.5974 - val_accuracy: 0.8423\n",
      "Epoch 17/20\n",
      "2534/2534 [==============================] - ETA: 0s - loss: 0.6030 - accuracy: 0.8231\n",
      "Epoch 17: val_accuracy did not improve from 0.84225\n",
      "2534/2534 [==============================] - 1463s 577ms/step - loss: 0.6030 - accuracy: 0.8231 - val_loss: 0.6235 - val_accuracy: 0.8367\n",
      "Epoch 18/20\n",
      "2534/2534 [==============================] - ETA: 0s - loss: 0.5757 - accuracy: 0.8281\n",
      "Epoch 18: val_accuracy did not improve from 0.84225\n",
      "2534/2534 [==============================] - 1516s 598ms/step - loss: 0.5757 - accuracy: 0.8281 - val_loss: 0.6462 - val_accuracy: 0.8329\n",
      "Epoch 19/20\n",
      "2534/2534 [==============================] - ETA: 0s - loss: 0.5371 - accuracy: 0.8395\n",
      "Epoch 19: val_accuracy improved from 0.84225 to 0.85448, saving model to modelo_check_1000_151_20.hdf5\n",
      "2534/2534 [==============================] - 1728s 682ms/step - loss: 0.5371 - accuracy: 0.8395 - val_loss: 0.5670 - val_accuracy: 0.8545\n",
      "Epoch 20/20\n",
      "2534/2534 [==============================] - ETA: 0s - loss: 0.5073 - accuracy: 0.8498\n",
      "Epoch 20: val_accuracy did not improve from 0.85448\n",
      "2534/2534 [==============================] - 1759s 694ms/step - loss: 0.5073 - accuracy: 0.8498 - val_loss: 0.5814 - val_accuracy: 0.8517\n"
     ]
    }
   ],
   "source": [
    "# Script de Construcción del modelo\n",
    "\n",
    "# Importar librerías\n",
    "from keras.models import Sequential\n",
    "from keras.layers import Dense, Conv2D, MaxPooling2D, Flatten, Dropout, BatchNormalization\n",
    "from keras.optimizers import Adam\n",
    "from keras.callbacks import ModelCheckpoint\n",
    "from keras.models import load_model\n",
    "\n",
    "# Definimos el modelo\n",
    "model = Sequential()\n",
    "model.add(Conv2D(32, 3, padding = 'same', activation = 'relu', input_shape =(128, 128, 3), kernel_initializer = 'he_normal'))\n",
    "model.add(BatchNormalization(axis = -1))\n",
    "model.add(MaxPooling2D((2, 2)))\n",
    "model.add(Dropout(0.25))\n",
    "\n",
    "model.add(Conv2D(64, 3, padding = 'same', kernel_initializer = 'he_normal', activation = 'relu'))\n",
    "model.add(BatchNormalization(axis = -1))\n",
    "model.add(Conv2D(64, 3, padding = 'same', kernel_initializer = 'he_normal', activation = 'relu'))\n",
    "model.add(BatchNormalization(axis = -1))\n",
    "model.add(MaxPooling2D((2, 2)))\n",
    "model.add(Dropout(0.25))\n",
    "\n",
    "model.add(Conv2D(128, 3, padding = 'same', kernel_initializer = 'he_normal', activation = 'relu'))\n",
    "model.add(BatchNormalization(axis = -1))\n",
    "model.add(Conv2D(128, 3, padding = 'same', kernel_initializer = 'he_normal', activation = 'relu'))\n",
    "model.add(BatchNormalization(axis = -1))\n",
    "model.add(MaxPooling2D((2, 2)))\n",
    "model.add(Dropout(0.25))\n",
    "\n",
    "model.add(Conv2D(256, 3, padding = 'same', kernel_initializer = 'he_normal', activation = 'relu'))\n",
    "model.add(BatchNormalization(axis = -1))\n",
    "model.add(Conv2D(256, 3, padding = 'same', kernel_initializer = 'he_normal', activation = 'relu'))\n",
    "model.add(BatchNormalization(axis = -1))\n",
    "model.add(MaxPooling2D((2, 2)))\n",
    "model.add(Dropout(0.25))\n",
    "\n",
    "model.add(Flatten())\n",
    "model.add(Dense(512, activation = 'relu'))\n",
    "model.add(BatchNormalization())\n",
    "model.add(Dropout(0.5))\n",
    "model.add(Dense(256, activation = 'relu'))\n",
    "model.add(BatchNormalization())\n",
    "model.add(Dropout(0.5))\n",
    "model.add(Dense(151, activation = 'softmax'))\n",
    "# Mostramos un resumen del modelo\n",
    "model.summary()\n",
    "\n",
    "# Printear todas las imagenes que usa el modelo (len)\n",
    "print(\"Número de imágenes de entrenamiento: \", len(X_train))\n",
    "\n",
    "checkpoint = ModelCheckpoint('modelo_check_1000_151_20.hdf5', verbose = 1, monitor = 'val_accuracy', save_best_only = True)\n",
    "\n",
    "model.compile(optimizer = 'adam', loss = 'categorical_crossentropy', metrics = ['accuracy'])\n",
    "model.fit(X_train, Y_train, batch_size = 32, epochs = 20, validation_data = [X_test, Y_test],\n",
    "                             steps_per_epoch=len(X_train) // 32, callbacks = [checkpoint])\n",
    "\n",
    "model.save('modelo_1000_151_20.hdf5')"
   ]
  },
  {
   "cell_type": "code",
   "execution_count": 5,
   "metadata": {},
   "outputs": [
    {
     "name": "stdout",
     "output_type": "stream",
     "text": [
      "Epoch 1/10\n",
      "WARNING:tensorflow:From C:\\Users\\sonia\\AppData\\Local\\Packages\\PythonSoftwareFoundation.Python.3.11_qbz5n2kfra8p0\\LocalCache\\local-packages\\Python311\\site-packages\\keras\\src\\utils\\tf_utils.py:492: The name tf.ragged.RaggedTensorValue is deprecated. Please use tf.compat.v1.ragged.RaggedTensorValue instead.\n",
      "\n",
      "WARNING:tensorflow:From C:\\Users\\sonia\\AppData\\Local\\Packages\\PythonSoftwareFoundation.Python.3.11_qbz5n2kfra8p0\\LocalCache\\local-packages\\Python311\\site-packages\\keras\\src\\engine\\base_layer_utils.py:384: The name tf.executing_eagerly_outside_functions is deprecated. Please use tf.compat.v1.executing_eagerly_outside_functions instead.\n",
      "\n",
      "2534/2534 [==============================] - ETA: 0s - loss: 0.3287 - accuracy: 0.8988\n",
      "Epoch 1: val_accuracy improved from -inf to 0.87618, saving model to modelo_check_1000_151_40.hdf5\n"
     ]
    },
    {
     "name": "stderr",
     "output_type": "stream",
     "text": [
      "C:\\Users\\sonia\\AppData\\Local\\Packages\\PythonSoftwareFoundation.Python.3.11_qbz5n2kfra8p0\\LocalCache\\local-packages\\Python311\\site-packages\\keras\\src\\engine\\training.py:3103: UserWarning: You are saving your model as an HDF5 file via `model.save()`. This file format is considered legacy. We recommend using instead the native Keras format, e.g. `model.save('my_model.keras')`.\n",
      "  saving_api.save_model(\n"
     ]
    },
    {
     "name": "stdout",
     "output_type": "stream",
     "text": [
      "2534/2534 [==============================] - 1748s 688ms/step - loss: 0.3287 - accuracy: 0.8988 - val_loss: 0.4929 - val_accuracy: 0.8762\n",
      "Epoch 2/10\n",
      "2534/2534 [==============================] - ETA: 0s - loss: 0.3185 - accuracy: 0.9036\n",
      "Epoch 2: val_accuracy improved from 0.87618 to 0.87657, saving model to modelo_check_1000_151_40.hdf5\n",
      "2534/2534 [==============================] - 1473s 581ms/step - loss: 0.3185 - accuracy: 0.9036 - val_loss: 0.5102 - val_accuracy: 0.8766\n",
      "Epoch 3/10\n",
      "2534/2534 [==============================] - ETA: 0s - loss: 0.3066 - accuracy: 0.9065\n",
      "Epoch 3: val_accuracy did not improve from 0.87657\n",
      "2534/2534 [==============================] - 1423s 561ms/step - loss: 0.3066 - accuracy: 0.9065 - val_loss: 0.6118 - val_accuracy: 0.8503\n",
      "Epoch 4/10\n",
      "2534/2534 [==============================] - ETA: 0s - loss: 0.2968 - accuracy: 0.9084\n",
      "Epoch 4: val_accuracy improved from 0.87657 to 0.88466, saving model to modelo_check_1000_151_40.hdf5\n",
      "2534/2534 [==============================] - 1434s 566ms/step - loss: 0.2968 - accuracy: 0.9084 - val_loss: 0.4738 - val_accuracy: 0.8847\n",
      "Epoch 5/10\n",
      "2534/2534 [==============================] - ETA: 0s - loss: 0.2890 - accuracy: 0.9103\n",
      "Epoch 5: val_accuracy did not improve from 0.88466\n",
      "2534/2534 [==============================] - 1430s 564ms/step - loss: 0.2890 - accuracy: 0.9103 - val_loss: 0.4888 - val_accuracy: 0.8808\n",
      "Epoch 6/10\n",
      "2534/2534 [==============================] - ETA: 0s - loss: 0.2801 - accuracy: 0.9136\n",
      "Epoch 6: val_accuracy did not improve from 0.88466\n",
      "2534/2534 [==============================] - 1430s 564ms/step - loss: 0.2801 - accuracy: 0.9136 - val_loss: 0.4788 - val_accuracy: 0.8831\n",
      "Epoch 7/10\n",
      "2534/2534 [==============================] - ETA: 0s - loss: 0.2709 - accuracy: 0.9167\n",
      "Epoch 7: val_accuracy did not improve from 0.88466\n",
      "2534/2534 [==============================] - 1431s 565ms/step - loss: 0.2709 - accuracy: 0.9167 - val_loss: 0.4793 - val_accuracy: 0.8841\n",
      "Epoch 8/10\n",
      "2534/2534 [==============================] - ETA: 0s - loss: 0.2718 - accuracy: 0.9172\n",
      "Epoch 8: val_accuracy did not improve from 0.88466\n",
      "2534/2534 [==============================] - 1492s 589ms/step - loss: 0.2718 - accuracy: 0.9172 - val_loss: 0.4899 - val_accuracy: 0.8826\n",
      "Epoch 9/10\n",
      "2534/2534 [==============================] - ETA: 0s - loss: 0.2534 - accuracy: 0.9211\n",
      "Epoch 9: val_accuracy did not improve from 0.88466\n",
      "2534/2534 [==============================] - 1733s 684ms/step - loss: 0.2534 - accuracy: 0.9211 - val_loss: 0.4917 - val_accuracy: 0.8846\n",
      "Epoch 10/10\n",
      "2534/2534 [==============================] - ETA: 0s - loss: 0.2541 - accuracy: 0.9222\n",
      "Epoch 10: val_accuracy did not improve from 0.88466\n",
      "2534/2534 [==============================] - 1768s 698ms/step - loss: 0.2541 - accuracy: 0.9222 - val_loss: 0.6082 - val_accuracy: 0.8539\n"
     ]
    }
   ],
   "source": [
    "from keras.models import load_model\n",
    "from keras.callbacks import ModelCheckpoint\n",
    "\n",
    "\n",
    "# Cargar el modelo existente\n",
    "existing_model = load_model('modelo_1000_151_30.hdf5')\n",
    "\n",
    "# Crear un nuevo checkpoint para guardar el modelo después de las nuevas épocas\n",
    "new_checkpoint = ModelCheckpoint('modelo_check_1000_151_40.hdf5', verbose=1, monitor='val_accuracy', save_best_only=True)\n",
    "\n",
    "# Compilar el modelo cargado\n",
    "existing_model.compile(optimizer='adam', loss='categorical_crossentropy', metrics=['accuracy'])\n",
    "\n",
    "# Entrenar el modelo por 10 épocas adicionales\n",
    "existing_model.fit(X_train, Y_train, batch_size=32, epochs=10, validation_data=[X_test, Y_test],\n",
    "                   steps_per_epoch=len(X_train) // 32, callbacks=[new_checkpoint])\n",
    "\n",
    "# Guardar el modelo después de las nuevas épocas\n",
    "existing_model.save('modelo_1000_151_40.hdf5')"
   ]
  },
  {
   "cell_type": "code",
   "execution_count": 7,
   "metadata": {},
   "outputs": [
    {
     "name": "stdout",
     "output_type": "stream",
     "text": [
      "{0: 'Abra', 1: 'Aerodactyl', 2: 'Alakazam', 3: 'Arbok', 4: 'Arcanine', 5: 'Articuno', 6: 'Beedrill', 7: 'Bellsprout', 8: 'Blastoise', 9: 'Bulbasaur', 10: 'Butterfree', 11: 'Caterpie', 12: 'Chansey', 13: 'Charizard', 14: 'Charmander', 15: 'Charmeleon', 16: 'Clefable', 17: 'Clefairy', 18: 'Cloyster', 19: 'Cubone', 20: 'Dewgong', 21: 'Diglett', 22: 'Ditto', 23: 'Dodrio', 24: 'Doduo', 25: 'Dragonair', 26: 'Dragonite', 27: 'Dratini', 28: 'Drowzee', 29: 'Dugtrio', 30: 'Eevee', 31: 'Ekans', 32: 'Electabuzz', 33: 'Electrode', 34: 'Exeggcute', 35: 'Exeggutor', 36: 'Farfetchd', 37: 'Fearow', 38: 'Flareon', 39: 'Gastly', 40: 'Gengar', 41: 'Geodude', 42: 'Gloom', 43: 'Golbat', 44: 'Goldeen', 45: 'Golduck', 46: 'Golem', 47: 'Graveler', 48: 'Greninja', 49: 'Grimer', 50: 'Growlithe', 51: 'Gyarados', 52: 'Haunter', 53: 'Hitmonchan', 54: 'Hitmonlee', 55: 'Horsea', 56: 'Hypno', 57: 'Ivysaur', 58: 'Jigglypuff', 59: 'Jolteon', 60: 'Jynx', 61: 'Kabuto', 62: 'Kabutops', 63: 'Kadabra', 64: 'Kakuna', 65: 'Kangaskhan', 66: 'Kingler', 67: 'Koffing', 68: 'Krabby', 69: 'Lapras', 70: 'Lickitung', 71: 'Machamp', 72: 'Machoke', 73: 'Machop', 74: 'Magikarp', 75: 'Magmar', 76: 'Magnemite', 77: 'Magneton', 78: 'Mankey', 79: 'Marowak', 80: 'Meowth', 81: 'Metapod', 82: 'Mew', 83: 'Mewtwo', 84: 'Moltres', 85: 'MrMime', 86: 'Muk', 87: 'Nidoking', 88: 'Nidoqueen', 89: 'Nidorina', 90: 'Nidorino', 91: 'Ninetales', 92: 'Oddish', 93: 'Omanyte', 94: 'Omastar', 95: 'Onix', 96: 'Paras', 97: 'Parasect', 98: 'Persian', 99: 'Pidgeot', 100: 'Pidgeotto', 101: 'Pidgey', 102: 'Pikachu', 103: 'Pinsir', 104: 'Poliwag', 105: 'Poliwhirl', 106: 'Poliwrath', 107: 'Ponyta', 108: 'Porygon', 109: 'Primeape', 110: 'Psyduck', 111: 'Raichu', 112: 'Rapidash', 113: 'Raticate', 114: 'Rattata', 115: 'Rayquaza', 116: 'Rhydon', 117: 'Rhyhorn', 118: 'Sandshrew', 119: 'Sandslash', 120: 'Scyther', 121: 'Seadra', 122: 'Seaking', 123: 'Seel', 124: 'Shellder', 125: 'Slowbro', 126: 'Slowpoke', 127: 'Snorlax', 128: 'Spearow', 129: 'Squirtle', 130: 'Starmie', 131: 'Staryu', 132: 'Tangela', 133: 'Tauros', 134: 'Tentacool', 135: 'Tentacruel', 136: 'Vaporeon', 137: 'Venomoth', 138: 'Venonat', 139: 'Venusaur', 140: 'Victreebel', 141: 'Vileplume', 142: 'Voltorb', 143: 'Vulpix', 144: 'Wartortle', 145: 'Weedle', 146: 'Weepinbell', 147: 'Weezing', 148: 'Wigglytuff', 149: 'Zapdos', 150: 'Zubat'}\n",
      "1/1 [==============================] - 0s 233ms/step\n",
      "Bulbasaur\n",
      "1/1 [==============================] - 0s 216ms/step\n",
      "Bulbasaur\n",
      "1/1 [==============================] - 0s 202ms/step\n",
      "Charmander\n",
      "1/1 [==============================] - 0s 212ms/step\n",
      "Charmander\n",
      "1/1 [==============================] - 0s 202ms/step\n",
      "Charmander\n",
      "1/1 [==============================] - 0s 202ms/step\n",
      "Pikachu\n",
      "1/1 [==============================] - 0s 225ms/step\n",
      "Pikachu\n",
      "1/1 [==============================] - 0s 207ms/step\n",
      "Pikachu\n",
      "1/1 [==============================] - 0s 206ms/step\n",
      "Rayquaza\n"
     ]
    }
   ],
   "source": [
    "# Importar librerías\n",
    "import os\n",
    "from PIL import Image\n",
    "import cv2\n",
    "import numpy as np\n",
    "from tensorflow.keras.preprocessing import image\n",
    "from tensorflow.keras.models import load_model\n",
    "\n",
    "path_input = 'input'\n",
    "path_output = 'output'\n",
    "\n",
    "# Recorremos las imágenes de la carpeta y vamos cambiando el tamaño\n",
    "i = 0\n",
    "for filename in os.listdir(path_input):\n",
    "    # Normalizar\n",
    "    img = Image.open(path_input+'/'+filename)\n",
    "    img = img.resize((128,128))\n",
    "    img.save(path_output+'/'+'prueba'+'_'+str(i)+'.png')\n",
    "    i += 1\n",
    "\n",
    "i = 0\n",
    "for filename in os.listdir(path_output):\n",
    "    # Normalizar\n",
    "    img = cv2.imread(path_output+'/'+filename)\n",
    "    gray = cv2.cvtColor(img, cv2.COLOR_BGR2GRAY)\n",
    "    cv2.imwrite(path_output+'/'+'prueba'+'_'+str(i)+'.png',gray)\n",
    "    i += 1\n",
    "\n",
    "clases_ordenadas = {}\n",
    "i = 0\n",
    "for pokemon in os.listdir('pokemon'):\n",
    "\tclases_ordenadas[i] = pokemon\n",
    "\ti += 1\n",
    "print(clases_ordenadas)\n",
    "\n",
    "i = 0\n",
    "for filename in os.listdir(path_output):\n",
    "\timg = image.load_img('output/' + filename, target_size=(128, 128))\n",
    "\timg_array = image.img_to_array(img)\n",
    "\timg_array = np.expand_dims(img_array, axis=0)\n",
    "\tmodelo = load_model('modelo_1000_151_40.hdf5')\n",
    "\tprediccion = modelo.predict(img_array)\n",
    "\tindice_prediccion = np.argmax(prediccion)\n",
    "\tpokemon_predicho = clases_ordenadas[indice_prediccion]\n",
    "\tprint(pokemon_predicho)\n",
    "\ti += 1\n"
   ]
  },
  {
   "cell_type": "code",
   "execution_count": null,
   "metadata": {},
   "outputs": [],
   "source": []
  }
 ],
 "metadata": {
  "kernelspec": {
   "display_name": "Python 3.9.7 64-bit",
   "language": "python",
   "name": "python3"
  },
  "language_info": {
   "codemirror_mode": {
    "name": "ipython",
    "version": 3
   },
   "file_extension": ".py",
   "mimetype": "text/x-python",
   "name": "python",
   "nbconvert_exporter": "python",
   "pygments_lexer": "ipython3",
   "version": "3.11.6"
  },
  "vscode": {
   "interpreter": {
    "hash": "e21126de3de0b02901272bc1080c53c327c2c88e32dda9e696532b5930d739af"
   }
  }
 },
 "nbformat": 4,
 "nbformat_minor": 2
}
