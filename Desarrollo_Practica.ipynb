{
 "cells": [
  {
   "cell_type": "markdown",
   "metadata": {},
   "source": [
    "# <center>Aplicación de CNN para reconocimiento de Pokémon y generación de una interfaz explicativa</center>\n"
   ]
  },
  {
   "cell_type": "markdown",
   "metadata": {},
   "source": [
    "## Datos Generales.\n",
    "\n",
    "* Asignatura: Inteligencia Artificial en las Organizaciones\n",
    "* Curso: 2023/2024\n",
    "* Profesor: Agapito Ismael Ledezma Espino\n",
    "* Grupo: 85\n",
    "\n",
    "Alumnos: \n",
    "- Jonathan Jiménez Muñoz (100451132@alumnos.uc3m.es)\n",
    "- Marta Palomo Velasco (100451041@alumnos.uc3m.es)\n",
    "- Francisco Antonio Gallardo Fuentes (100451146@alumnos.uc3m.es)\n",
    "- Yago Brotón Gutiérrez (100451322@alumnos.uc3m.es)"
   ]
  },
  {
   "cell_type": "markdown",
   "metadata": {},
   "source": [
    "## Introducción\n",
    "\n",
    "El objetivo de está práctica va a ser utilizar Redes Neuronales Convolucionales para clasificar imágenes de Pokémon y, una vez identificado dicho Pokémon, construir una pequeña interfaz donde se muestren estadísticas relevantes sobre el mismo. "
   ]
  },
  {
   "cell_type": "markdown",
   "metadata": {},
   "source": [
    "## Contexto\n",
    "\n",
    "Cada año salen más y más Pokemon, habiendo actualmente más de 1000 especies diferentes, donde cada especie tiene n movimientos diferentes, 2/3 habilidades diferentes, naturalezas, tipos, etc. <br><br>\n",
    "Es por ello que las personas junior que intentan competir profesionalmente en el juego de Pokemon, se ven abrumadas por la cantidad de información que tienen que procesar, y por ello cada vez hay más y más jugadores masters (+18 años) y menos senior y junior (menos de 18 años), dado que los jugadores que antes eran junior han cambiado de categoría y cada vez hay menos jugadores nuevos que se unan a la comunidad. <br><br>\n",
    "Con esta práctica lo que queremos lograr es que, a partir de una simple imagen de un Pokemon, se muestre información relevante sobre el mismo, como por ejemplo, sus estadísticas base, sus habilidades, sus movimientos, etc, y con ello que los jugadores junior puedan aprender más rápido y tener algo más de motivación para entrar en la comunidad competitiva de Pokemon."
   ]
  },
  {
   "cell_type": "markdown",
   "metadata": {},
   "source": [
    "## Desarrollo de la práctica\n",
    "\n",
    "Esta práctica va a estar dividida en varias fases:\n",
    "\n",
    "1. Obtención de los datos: En esta fase vamos a obtener aquellas imágenes que vamos a utilizar para entrenar nuestro modelo, y vamos a preprocesarlas para que el modelo pueda entrenar con ellas. Además de obtener los datos usados para la interfaz. <br><br>\n",
    "2. Preprocesado de los datos: Una vez obtengamos todos los datos/imágenes posibles, tendremos que hacer una limpieza (eliminar duplicados, imágenes que no correspondan al Pokemon que queremos, etc), con el objetivo de tener un dataset lo más limpio posible.<br><br>\n",
    "3. División train_test y últimas preparaciones para el modelo: Tras haber preprocesado los datos, el siguiente paso es dividir el dataset en train y test, y realizar las últimas preparaciones para el modelo (generación de más imágenes, etc).<br><br>\n",
    "4. Construcción del modelo: Una vez tenemos los datos preparados, el siguiente paso es construir el modelo. Para ello, vamos a utilizar una red neuronal convolucional CNN, que es un tipo de red neuronal que se utiliza para clasificar imágenes. <br><br>\n",
    "5. Desarrollo de la Interfaz: Finalmente, con el modelo ya entrenado y seleccionado, tendremos que desarrollar una interfaz que muestre aquella información (mejores movimientos, habilidades, estadísticas, etc) que consideremos relevantes para el jugador y que le ayuden a mejorar en el juego."
   ]
  },
  {
   "cell_type": "markdown",
   "metadata": {},
   "source": [
    "### 1. Obtención de los datos\n",
    "\n",
    "Para obtener las imágenes y datos sobre los Pokémon, hemos utilizado diferentes fuentes de información, como por ejemplo:\n",
    "Kaggle: \n",
    "- https://www.kaggle.com/datasets/abcsds/pokemon\n",
    "- https://www.kaggle.com/datasets/vishalsubbiah/pokemon-images-and-types\n",
    "- https://www.kaggle.com/datasets/kvpratama/pokemon-images-dataset\n",
    "- https://www.kaggle.com/datasets/arenagrenade/the-complete-pokemon-images-data-set\n",
    "\n",
    "ImagenDex:\n",
    "- https://pokemaster.es/imagendex/\n",
    "\n",
    "Una vez hemos obtenido imágenes de todos los Pokémon, el próximo objetivo es escoger aquellos que más imágenes tenemos y a partir de ahí, obtener más imágenes de los mismos. <br>\n",
    "\n",
    "Para ello decidimos crear un pequeño script que nos permitiera obtener imágenes a partir de Google Imágenes. <br>\n",
    "\n",
    "En dicho script utilizamos las librerías: google_search, para realizar búsquedas en Google Imágenes; requests, para realizar peticiones a las páginas web y BeautifulSoup para parsear el HTML de las páginas web y obtener las imágenes. <br>\n",
    "\n",
    "En caso de requerir de más imágenes, a la hora de generar el modelo utilizaremos algunas técnicas como poner la imagen en modo espejo, rotarla, etc y así obtener hacer que nuestro modelo sea lo más preciso posible. <br>"
   ]
  },
  {
   "cell_type": "code",
   "execution_count": 83,
   "metadata": {},
   "outputs": [
    {
     "data": {
      "text/plain": [
       "'\\nimport os\\nimport requests\\nfrom bs4 import BeautifulSoup\\nfrom googlesearch import search\\n\\n# Función para la descarga de imágenes\\ndef download_all_images(query):\\n    image_links = set()\\n\\n    # Searching for the query in Google Images\\n    search_query = query + \" images\"\\n    for j in search(search_query, num=10, stop=10, pause=2):\\n        if \\'https://encrypted-tbn0.gstatic.com/images\\' in j:\\n            continue\\n        page = requests.get(j)\\n        soup = BeautifulSoup(page.content, \"html.parser\")\\n\\n        # Extracting image links\\n        for raw_img in soup.find_all(\"img\"):\\n            link = raw_img.get(\"src\")\\n            if link and link.startswith(\"http\"):\\n                image_links.add(link)\\n\\n    # Create a directory for downloaded images\\n    if not os.path.exists(query):\\n        os.makedirs(query)\\n\\n    # Download the images\\n    for i, link in enumerate(image_links):\\n        try:\\n            response = requests.get(link)\\n            file = open(os.path.join(query, f\"{query}_{i+1}.jpg\"), \"wb\")\\n            file.write(response.content)\\n            file.close()\\n        except Exception as e:\\n            print(f\"Error: {e}\")\\n            continue\\n    \\n    print(f\"Downloaded {len(image_links)} images for {query}.\")\\n    return\\n\\n\\nquery = \"squirtle in game\"  # Introducir el término aquí.\\n\\ndownload_all_images(query)\\n'"
      ]
     },
     "execution_count": 83,
     "metadata": {},
     "output_type": "execute_result"
    }
   ],
   "source": [
    "# Script para la búsqueda de imágenes en Google imágenes (descomentar si se quiere probar)\n",
    "\n",
    "# Importamos las librerías necesarias\n",
    "\"\"\"\n",
    "import os\n",
    "import requests\n",
    "from bs4 import BeautifulSoup\n",
    "from googlesearch import search\n",
    "\n",
    "# Función para la descarga de imágenes\n",
    "def download_all_images(query):\n",
    "    image_links = set()\n",
    "\n",
    "    # Searching for the query in Google Images\n",
    "    search_query = query + \" images\"\n",
    "    for j in search(search_query, num=10, stop=10, pause=2):\n",
    "        if 'https://encrypted-tbn0.gstatic.com/images' in j:\n",
    "            continue\n",
    "        page = requests.get(j)\n",
    "        soup = BeautifulSoup(page.content, \"html.parser\")\n",
    "\n",
    "        # Extracting image links\n",
    "        for raw_img in soup.find_all(\"img\"):\n",
    "            link = raw_img.get(\"src\")\n",
    "            if link and link.startswith(\"http\"):\n",
    "                image_links.add(link)\n",
    "\n",
    "    # Create a directory for downloaded images\n",
    "    if not os.path.exists(query):\n",
    "        os.makedirs(query)\n",
    "\n",
    "    # Download the images\n",
    "    for i, link in enumerate(image_links):\n",
    "        try:\n",
    "            response = requests.get(link)\n",
    "            file = open(os.path.join(query, f\"{query}_{i+1}.jpg\"), \"wb\")\n",
    "            file.write(response.content)\n",
    "            file.close()\n",
    "        except Exception as e:\n",
    "            print(f\"Error: {e}\")\n",
    "            continue\n",
    "    \n",
    "    print(f\"Downloaded {len(image_links)} images for {query}.\")\n",
    "    return\n",
    "\n",
    "\n",
    "query = \"squirtle in game\"  # Introducir el término aquí.\n",
    "\n",
    "download_all_images(query)\n",
    "\"\"\""
   ]
  },
  {
   "cell_type": "markdown",
   "metadata": {},
   "source": [
    "Una vez descargadas las imágenes, vamos a escribir un nombre en cada imagen igual, para que después sea más sencillo el preprocesado de los datos. "
   ]
  },
  {
   "cell_type": "code",
   "execution_count": 23,
   "metadata": {},
   "outputs": [
    {
     "name": "stdout",
     "output_type": "stream",
     "text": [
      "Nombres cambiados\n"
     ]
    }
   ],
   "source": [
    "# Script para cambiar el nombre de las imágenes descargadas (descomentar si se quiere probar)\n",
    "\"\"\"\n",
    "# Importar librerías\n",
    "import os\n",
    "\n",
    "pokemon = 'Squirtle' # Cambiar para cada nombre de pokemon\n",
    "path = 'pokemon/'+pokemon\n",
    "\n",
    "# Recorremos las imágenes de la carpeta y vamos cambiando el nombre\n",
    "i = 0\n",
    "for filename in os.listdir(path):\n",
    "    os.rename(path+'/'+filename, path+'/'+pokemon+'__'+str(i)+'.png')\n",
    "    i += 1\n",
    "    \n",
    "print('Nombres cambiados')\n",
    "\"\"\"\n",
    "\n"
   ]
  },
  {
   "cell_type": "markdown",
   "metadata": {},
   "source": [
    "Con todo esto, obtuvimos muchas imágenes para cada Pokémon. Sin embargo, decidimos quedarnos con los Pokémon que más imágenes tenían, debido a que consideramos que es mejor obtener un buen modelo que funcione para una cantidad reducida de especies, que crear un modelo que funcione para muchas especies pero no sea demasiado preciso. <br>\n",
    "\n",
    "Por ello, los Pokémon que decidimos utilizar fueron los siguientes: Pikachu, Charmander, Charizard, Caterpie, Magikarp, Ratata, Geodude, Machop, Squirtle, Bulbasaur, Mew, Dragonite, Meowth, Lapras, Snorlax, Greninja, Rayquaza, Lucario, MrMime y Gengar (20 especies). <br>\n"
   ]
  },
  {
   "cell_type": "markdown",
   "metadata": {},
   "source": [
    "### 2. Preprocesado de los datos\n",
    "Debido a que utilizamos diferentes filtros en la búsqueda de imágenes para obtener las máximas posibles, nos salieron muchas imágenes duplicadas o que no se correspondían con el Pokémon que queríamos. <br>\n",
    "\n",
    "Es por ello que debíamos hacer un preprocesado de los datos, para quedarnos con el conjunto de imágenes de cada Pokémon lo más limpio y homogéneo posible. <br>\n",
    "\n",
    "Esto conyevó varias tareas: \n",
    "- Eliminación de imágenes no correspondientes al Pokémon que queríamos. Para ello simplemente una vez descargadas todas las imágenes, nos metíamos en la carpeta e íbamos eliminando una a una las imágenes que no pertenecían a dicho Pokémon.\n",
    "- Eliminación de imágenes duplicadas. En este punto nos dimos cuenta de que hacerlo a mano iba a ser prácticamente imposible, por ello decidimos crear un pequeño script que comparase las imágenes entre sí y eliminase aquellas que fueran iguales, usando la libería Pilow.\n",
    "- Normalizar, redimensionar y convertir las imágenes a escala de grises. Para ello, utilizaremos keras.preprocessing.image, que nos permite realizar estas tareas de forma muy sencilla. "
   ]
  },
  {
   "cell_type": "markdown",
   "metadata": {},
   "source": [
    "#### 2.1 Scripts usados para el preprocesdo de los datos"
   ]
  },
  {
   "cell_type": "code",
   "execution_count": 85,
   "metadata": {},
   "outputs": [
    {
     "data": {
      "text/plain": [
       "'\\nfrom PIL import Image\\nimport os\\n\\n# Ruta de la carpeta con las imágenes\\ncarpeta = \\'pokemon/Meowth\\'\\n\\n# Diccionario para almacenar las imágenes idénticas\\nimagenes_ident = {}\\n\\n# Recorriendo la carpeta y comparando cada imagen con las demás\\nfor nombre_imagen1 in os.listdir(carpeta):\\n    ruta_imagen1 = os.path.join(carpeta, nombre_imagen1)\\n    if os.path.isfile(ruta_imagen1):\\n        imagen1 = Image.open(ruta_imagen1)\\n        for nombre_imagen2 in os.listdir(carpeta):\\n            ruta_imagen2 = os.path.join(carpeta, nombre_imagen2)\\n            if os.path.isfile(ruta_imagen2) and ruta_imagen1 != ruta_imagen2:\\n                imagen2 = Image.open(ruta_imagen2)\\n                if imagen1.size == imagen2.size and list(imagen1.getdata()) == list(imagen2.getdata()):\\n                    if nombre_imagen1 not in imagenes_ident:\\n                        imagenes_ident[nombre_imagen1] = [nombre_imagen2]\\n                    else:\\n                        imagenes_ident[nombre_imagen1].append(nombre_imagen2)\\n\\n# Mostrar las imágenes idénticas encontradas\\nfor imagen, imagenes_iguales in imagenes_ident.items():\\n    print(f\"La imagen {imagen} es idéntica a: {\\', \\'.join(imagenes_iguales)}\")\\n    \\n# Sacamos la imagen duplicada de la carpeta y la movemos a otra carpeta, dejando solamente una copia de la imagen\\nfor imagen, imagenes_iguales in imagenes_ident.items():\\n    # si no existe la carpeta la creamos\\n    if not os.path.exists(\\'pokemon/duplicadas\\'):\\n        os.makedirs(\\'pokemon/duplicadas\\')\\n    # movemos la imagen a la carpeta duplicadas\\n    os.rename(carpeta + \\'/\\' + imagen, \\'pokemon/duplicadas/\\' + imagen)\\n    # borramos las imagenes duplicadas\\n    for imagen_duplicada in imagenes_iguales:\\n        os.remove(carpeta + \\'/\\' + imagen_duplicada)\\n     \\n    \\n# Si no hay imágenes idénticas, mostrar un mensaje\\nif len(imagenes_ident) == 0:\\n    print(\"No hay imágenes idénticas.\")\\n\\n'"
      ]
     },
     "execution_count": 85,
     "metadata": {},
     "output_type": "execute_result"
    }
   ],
   "source": [
    "# Script de eliminación de imágenes duplicadas (descomentar si se quiere probar)\n",
    "\"\"\"\n",
    "from PIL import Image\n",
    "import os\n",
    "\n",
    "# Ruta de la carpeta con las imágenes\n",
    "carpeta = 'pokemon/Meowth'\n",
    "\n",
    "# Diccionario para almacenar las imágenes idénticas\n",
    "imagenes_ident = {}\n",
    "\n",
    "# Recorriendo la carpeta y comparando cada imagen con las demás\n",
    "for nombre_imagen1 in os.listdir(carpeta):\n",
    "    ruta_imagen1 = os.path.join(carpeta, nombre_imagen1)\n",
    "    if os.path.isfile(ruta_imagen1):\n",
    "        imagen1 = Image.open(ruta_imagen1)\n",
    "        for nombre_imagen2 in os.listdir(carpeta):\n",
    "            ruta_imagen2 = os.path.join(carpeta, nombre_imagen2)\n",
    "            if os.path.isfile(ruta_imagen2) and ruta_imagen1 != ruta_imagen2:\n",
    "                imagen2 = Image.open(ruta_imagen2)\n",
    "                if imagen1.size == imagen2.size and list(imagen1.getdata()) == list(imagen2.getdata()):\n",
    "                    if nombre_imagen1 not in imagenes_ident:\n",
    "                        imagenes_ident[nombre_imagen1] = [nombre_imagen2]\n",
    "                    else:\n",
    "                        imagenes_ident[nombre_imagen1].append(nombre_imagen2)\n",
    "\n",
    "# Mostrar las imágenes idénticas encontradas\n",
    "for imagen, imagenes_iguales in imagenes_ident.items():\n",
    "    print(f\"La imagen {imagen} es idéntica a: {', '.join(imagenes_iguales)}\")\n",
    "    \n",
    "# Sacamos la imagen duplicada de la carpeta y la movemos a otra carpeta, dejando solamente una copia de la imagen\n",
    "for imagen, imagenes_iguales in imagenes_ident.items():\n",
    "    # si no existe la carpeta la creamos\n",
    "    if not os.path.exists('pokemon/duplicadas'):\n",
    "        os.makedirs('pokemon/duplicadas')\n",
    "    # movemos la imagen a la carpeta duplicadas\n",
    "    os.rename(carpeta + '/' + imagen, 'pokemon/duplicadas/' + imagen)\n",
    "    # borramos las imagenes duplicadas\n",
    "    for imagen_duplicada in imagenes_iguales:\n",
    "        os.remove(carpeta + '/' + imagen_duplicada)\n",
    "     \n",
    "    \n",
    "# Si no hay imágenes idénticas, mostrar un mensaje\n",
    "if len(imagenes_ident) == 0:\n",
    "    print(\"No hay imágenes idénticas.\")\n",
    "\n",
    "\"\"\""
   ]
  },
  {
   "cell_type": "code",
   "execution_count": 86,
   "metadata": {},
   "outputs": [
    {
     "data": {
      "text/plain": [
       "'\\n\\n# Importar librerías\\nimport os\\nfrom PIL import Image\\n\\n# Seleccionamos la carpeta con las imágenes a normalizar\\npokemon = \\'Pikachu\\' # Cambiar para cada nombre de pokemon\\npath = \\'pokemon/\\'+pokemon\\n\\n# Recorremos las imágenes de la carpeta y vamos cambiando el tamaño\\ni = 0\\nfor filename in os.listdir(path):\\n    # Normalizar\\n    img = Image.open(path+\\'/\\'+filename)\\n    img = img.resize((128,128))\\n    img.save(path+\\'/\\'+pokemon+\\'_\\'+str(i)+\\'.png\\')\\n    i += 1\\n    \\nprint(\\'Imágenes normalizadas\\')\\n\\n# Eliminar todos los jpg para evitar duplicados en varios formatos\\n\\nfor filename in os.listdir(path):\\n    if filename.endswith(\".jpg\"):\\n        os.remove(path+\\'/\\'+filename)\\n        \\nprint(\\'Imágenes jpg eliminadas\\')\\n\\n'"
      ]
     },
     "execution_count": 86,
     "metadata": {},
     "output_type": "execute_result"
    }
   ],
   "source": [
    "# Script para la normalización (descomentar si se quiere probar)\n",
    "\"\"\"\n",
    "\n",
    "# Importar librerías\n",
    "import os\n",
    "from PIL import Image\n",
    "\n",
    "# Seleccionamos la carpeta con las imágenes a normalizar\n",
    "pokemon = 'Pikachu' # Cambiar para cada nombre de pokemon\n",
    "path = 'pokemon/'+pokemon\n",
    "\n",
    "# Recorremos las imágenes de la carpeta y vamos cambiando el tamaño\n",
    "i = 0\n",
    "for filename in os.listdir(path):\n",
    "    # Normalizar\n",
    "    img = Image.open(path+'/'+filename)\n",
    "    img = img.resize((128,128))\n",
    "    img.save(path+'/'+pokemon+'_'+str(i)+'.png')\n",
    "    i += 1\n",
    "    \n",
    "print('Imágenes normalizadas')\n",
    "\n",
    "# Eliminar todos los jpg para evitar duplicados en varios formatos\n",
    "\n",
    "for filename in os.listdir(path):\n",
    "    if filename.endswith(\".jpg\"):\n",
    "        os.remove(path+'/'+filename)\n",
    "        \n",
    "print('Imágenes jpg eliminadas')\n",
    "\n",
    "\"\"\""
   ]
  },
  {
   "cell_type": "code",
   "execution_count": 87,
   "metadata": {},
   "outputs": [
    {
     "data": {
      "text/plain": [
       "\"\\n\\n# Importar librerías\\nimport os\\nimport cv2\\nimport numpy as np\\n\\n# Seleccionamos la carpeta con las imágenes a cambiar\\npokemon = 'MrMime' # Cambiar para cada nombre de pokemon\\npath = 'pokemon/'+pokemon\\n\\n# Recorremos las imágenes de la carpeta y vamos aplicando el filtro\\ni = 0\\nfor filename in os.listdir(path):\\n    # Normalizar\\n    img = cv2.imread(path+'/'+filename)\\n    gray = cv2.cvtColor(img, cv2.COLOR_BGR2GRAY)\\n    cv2.imwrite(path+'/'+pokemon+'_'+str(i)+'.png',gray)\\n    i += 1\\n    \\nprint('Imágenes en escala de grises')\\n\\n\""
      ]
     },
     "execution_count": 87,
     "metadata": {},
     "output_type": "execute_result"
    }
   ],
   "source": [
    "# Script para la conversión a escala de grises (descomentar si se quiere probar)\n",
    "\"\"\"\n",
    "\n",
    "# Importar librerías\n",
    "import os\n",
    "import cv2\n",
    "import numpy as np\n",
    "\n",
    "# Seleccionamos la carpeta con las imágenes a cambiar\n",
    "pokemon = 'MrMime' # Cambiar para cada nombre de pokemon\n",
    "path = 'pokemon/'+pokemon\n",
    "\n",
    "# Recorremos las imágenes de la carpeta y vamos aplicando el filtro\n",
    "i = 0\n",
    "for filename in os.listdir(path):\n",
    "    # Normalizar\n",
    "    img = cv2.imread(path+'/'+filename)\n",
    "    gray = cv2.cvtColor(img, cv2.COLOR_BGR2GRAY)\n",
    "    cv2.imwrite(path+'/'+pokemon+'_'+str(i)+'.png',gray)\n",
    "    i += 1\n",
    "    \n",
    "print('Imágenes en escala de grises')\n",
    "\n",
    "\"\"\""
   ]
  },
  {
   "cell_type": "markdown",
   "metadata": {},
   "source": [
    "Como dijimos anteriormente, a pesar de haber realizado una búsqueda masiva de imágenes, creemos que con apenas 400-1000 imágenes de cada especie no son suficientes, es por ello que vamos a utilizar técnicas como la rotación o volteo y así obtener, como mínimo, 2000 imágenes de cada especie. Para ello, podemos hacerlo de dos maneras:\n",
    "1. Realizarlo directamente sobre el conjunto de imágenes.\n",
    "2. Realizar la división del conjunto de imágenes en train y test y aplicar las técnicas de rotación y volteo sobre el conjunto de train.\n",
    "\n",
    "Cualquiera de las opciones debería ser correcta, pero hemos decidido realizar la segunda opción, ya que así podemos usar directamente el conjunto de train a la hora de crear el modelo y no tendríamos que hacer una división posteriormente, es decir, nos ahorra un paso."
   ]
  },
  {
   "cell_type": "code",
   "execution_count": null,
   "metadata": {},
   "outputs": [
    {
     "name": "stdout",
     "output_type": "stream",
     "text": [
      "Imágenes generadas\n"
     ]
    }
   ],
   "source": [
    "# Generamos más imágenes (descomentar si se quiere probar)\n",
    "\"\"\"\n",
    "# Generamos 3000 imágenes de cada especie a partir de las 400-1000 que teníamos.\n",
    "\n",
    "# Importamos librerías\n",
    "from keras.preprocessing.image import ImageDataGenerator\n",
    "import random\n",
    "\n",
    "# Generador de imágenes\n",
    "generador_imagenes = ImageDataGenerator(rotation_range=10, # Rotación aleatoria de la imagen\n",
    "                                        width_shift_range=0.1, # Desplazamiento horizontal aleatorio\n",
    "                                        height_shift_range=0.1, # Desplazamiento vertical aleatorio\n",
    "                                        zoom_range=0.1, # Zoom aleatorio\n",
    "                                        horizontal_flip=True) # Volteo horizontal\n",
    "\n",
    "# Generamos 50 imágenes de cada imagen que tenemos y se guardan en la carpeta de la clase correspondiente\n",
    "for elemento in clases:\n",
    "    # Recorremos las imágenes de cada clase\n",
    "    for filename in os.listdir(path+'/'+elemento):\n",
    "        # Añadimos la imagen a la lista X\n",
    "        img = cv2.imread(path+'/'+elemento+'/'+filename)\n",
    "        # Revisar que todas las imágenes tienen el mismo tamaño\n",
    "        img = cv2.resize(img, (128,128))\n",
    "        # Cambiamos la dimensión de la imagen\n",
    "        img = img.reshape([-1, 128, 128, 3])\n",
    "        # Generamos las imágenes\n",
    "        generador_imagenes.fit(img)\n",
    "        imagenes_generadas = generador_imagenes.flow(img, batch_size=50, save_to_dir=path+'/'+elemento, save_prefix='aug', save_format='png')\n",
    "        # Guardamos las imágenes\n",
    "        for i in range(10):\n",
    "            imagenes_generadas.next()\n",
    "            \n",
    "print('Imágenes generadas')\n",
    "\"\"\""
   ]
  },
  {
   "cell_type": "markdown",
   "metadata": {},
   "source": [
    "Con esto, conseguimos tener un dataset lo más limpio posible y preparado para el siguiente punto: realización del modelo y entrenamiento <directorio ./Pokemon>"
   ]
  },
  {
   "cell_type": "markdown",
   "metadata": {},
   "source": [
    "### 3. Entrenamiento del modelo"
   ]
  },
  {
   "cell_type": "markdown",
   "metadata": {},
   "source": [
    "Antes de comenzar con la creación del modelo, vamos a visualizar a través de gráficas las diferentes clases que tenemos en nuestro dataset, con el objetivo de ver el número de imágenes que tenemos para cada clase, si hay desbalanceo o no. Recordamos que como tenemos 20 pokémon, el número de clases será 20. <br>\n",
    "Para la realización de este modelo, nos hemos basado en páginas de referencia tales como: stackoverflow, tensorflow y keras; en los cuales hemos usado el código que nos proporcionan, realizando las modificaciones necesarias para adaptarlo a nuestro problema. <br>\n",
    "- TensorFlow: https://www.tensorflow.org/tutorials/images/classification\n",
    "- Keras: https://keras.io/examples/vision/image_classification_from_scratch/\n",
    "- Stackoverflow: usado para resolver dudas puntuales."
   ]
  },
  {
   "cell_type": "code",
   "execution_count": 28,
   "metadata": {},
   "outputs": [
    {
     "name": "stdout",
     "output_type": "stream",
     "text": [
      "Número total de clases:  20\n",
      "Número de imágenes por clase:  {'Bulbasaur': 2998, 'Caterpie': 1757, 'Charizard': 3861, 'Charmander': 5632, 'Dragonite': 4143, 'Eevee': 3231, 'Gengar': 3167, 'Geodude': 2200, 'Greninja': 2970, 'Jigglypuff': 4451, 'Lapras': 3866, 'Machop': 1873, 'Magikarp': 3475, 'Meowth': 4969, 'MrMime': 2810, 'Pikachu': 6606, 'Rattata': 1576, 'Rayquaza': 3914, 'Snorlax': 4093, 'Squirtle': 4592}\n"
     ]
    },
    {
     "data": {
      "image/png": "[encoded data removed]",
      "text/plain": [
       "<Figure size 640x480 with 1 Axes>"
      ]
     },
     "metadata": {},
     "output_type": "display_data"
    }
   ],
   "source": [
    "# Script para pre-visualizar las clases y el número de imágenes por clase (descomentar si se quiere probar)\n",
    "\n",
    "# Importar librerías\n",
    "import os\n",
    "import cv2\n",
    "import numpy as np\n",
    "import matplotlib.pyplot as plt\n",
    "\n",
    "# Seleccionamos la carpeta con las diferentes clases\n",
    "path = 'pokemon'\n",
    "clases = os.listdir(path) # Lista con las clases\n",
    "print(\"Número total de clases: \", len(clases))\n",
    "\n",
    "# Creamos un diccionario para almacenar el número de imágenes por clase\n",
    "num_imagenes = {}\n",
    "for elemento in clases:\n",
    "    num_imagenes[elemento] = len(os.listdir(path+'/'+elemento))\n",
    "    \n",
    "print(\"Número de imágenes por clase: \", num_imagenes)\n",
    "\n",
    "# Dibujamos la gráfica\n",
    "plt.bar(range(len(num_imagenes)), list(num_imagenes.values()), align='center')\n",
    "plt.xticks(range(len(num_imagenes)), list(num_imagenes.keys()))\n",
    "# Hacemos bonita la gráfica\n",
    "plt.ylim(0, 8000)\n",
    "plt.xticks(rotation=90)\n",
    "plt.ylabel('Número de imágenes')\n",
    "plt.xlabel('Clases')\n",
    "plt.title('Número de imágenes por clase')\n",
    "# Mostramos la gráfica\n",
    "plt.show()"
   ]
  },
  {
   "cell_type": "code",
   "execution_count": 29,
   "metadata": {},
   "outputs": [],
   "source": [
    "# Definimos el Conjunto X e Y, donde X son las imágenes y Y las clases\n",
    "\n",
    "# Importar librerías\n",
    "from sklearn.model_selection import train_test_split\n",
    "from sklearn.preprocessing import LabelEncoder\n",
    "from keras.utils import to_categorical\n",
    "\n",
    "X = [] # Lista con las imágenes\n",
    "Y = [] # Lista de etiquetas\n",
    "\n",
    "# Recorremos las clases\n",
    "for elemento in clases:\n",
    "    # Recorremos las imágenes de cada clase\n",
    "    for filename in os.listdir(path+'/'+elemento):\n",
    "        # Añadimos la imagen a la lista X\n",
    "        img = cv2.imread(path+'/'+elemento+'/'+filename)\n",
    "        # Revisar que todas las imágenes tienen el mismo tamaño\n",
    "        img = cv2.resize(img, (128,128))\n",
    "        X.append(img)\n",
    "        Y.append(elemento)\n",
    "        \n",
    "# Imprimimos la longitud de las listas\n",
    "print(\"Número de imágenes: \", len(X))\n",
    "print(\"Número de etiquetas: \", len(Y))\n",
    "\n",
    "# Convertimos las listas a arrays de numpy\n",
    "X = np.array(X)\n",
    "Y = np.array(Y)\n",
    " \n",
    "# División del conjunto de datos en entrenamiento y test\n",
    "X_train, X_test, Y_train, Y_test = train_test_split(X, Y, test_size=0.2, random_state=22, stratify=Y, shuffle=True)\n",
    "print(\"Forma de X_train: \", X_train.shape)\n",
    "print(\"Forma de X_test: \", X_test.shape)\n",
    "print(\"Forma de Y_train: \", Y_train.shape)\n",
    "print(\"Forma de Y_test: \", Y_test.shape)\n",
    "\n",
    "# Codificación one hot de las etiquetas\n",
    "encoder = LabelEncoder() \n",
    "encoder.fit(Y_train)\n",
    "Y_train = encoder.transform(Y_train)\n",
    "Y_test = encoder.transform(Y_test)\n",
    "Y_train = to_categorical(Y_train, num_classes=20)\n",
    "Y_test = to_categorical(Y_test, num_classes=20)\n"
   ]
  },
  {
   "cell_type": "markdown",
   "metadata": {},
   "source": [
    "### 4. Construcción del modelo "
   ]
  },
  {
   "cell_type": "markdown",
   "metadata": {},
   "source": [
    "Una vez tenemos ya el conjunto de datos dividido en train and test, todas las imágenes necesarias generadas y el dataset limpio y preparado, vamos a proceder a la creación del modelo CNN. <br>\n",
    "Para ello seguiremos utilizando la librerçia Keras, la cual nos parece muy útil para realizar esta construcción y, además, contiene muchos ejemplos reales y en los cuales podemos orientarnos a la hora de realizar nuestro modelo. <br>\n",
    "A la hora de su realización, podemos basarnos en varios tipos de enfoque: <br> \n",
    "1. Secuencial: se trata de una pila de capas de redes neuronales, en la cual cada capa tiene una entrada y una salida: https://keras.io/guides/sequential_model/ <br>\n",
    "2. Funcional: se trata de un modelo más complejo, en el cual podemos tener varias entradas y salidas, y además podemos tener capas compartidas: https://keras.io/guides/functional_api/<br>\n",
    "\n",
    "Nosotros hemos decidido utilizar el modelo secuencial, ya que consideramos que es más sencillo y más adecuado para nuestro problema dado que como lo que queremos hacer es que, dada una imagen se genere una interfaz que nos diga que Pokémon es, solo necesitamos de una entrada y una salida. <br>"
   ]
  },
  {
   "cell_type": "code",
   "execution_count": null,
   "metadata": {},
   "outputs": [
    {
     "name": "stdout",
     "output_type": "stream",
     "text": [
      "Model: \"sequential_10\"\n",
      "_________________________________________________________________\n",
      " Layer (type)                Output Shape              Param #   \n",
      "=================================================================\n",
      " conv2d_20 (Conv2D)          (None, 128, 128, 32)      896       \n",
      "                                                                 \n",
      " max_pooling2d_20 (MaxPooli  (None, 64, 64, 32)        0         \n",
      " ng2D)                                                           \n",
      "                                                                 \n",
      " conv2d_21 (Conv2D)          (None, 62, 62, 64)        18496     \n",
      "                                                                 \n",
      " max_pooling2d_21 (MaxPooli  (None, 31, 31, 64)        0         \n",
      " ng2D)                                                           \n",
      "                                                                 \n",
      " flatten_10 (Flatten)        (None, 61504)             0         \n",
      "                                                                 \n",
      " dense_20 (Dense)            (None, 64)                3936320   \n",
      "                                                                 \n",
      " dropout_10 (Dropout)        (None, 64)                0         \n",
      "                                                                 \n",
      " dense_21 (Dense)            (None, 20)                1300      \n",
      "                                                                 \n",
      "=================================================================\n",
      "Total params: 3957012 (15.09 MB)\n",
      "Trainable params: 3957012 (15.09 MB)\n",
      "Non-trainable params: 0 (0.00 Byte)\n",
      "_________________________________________________________________\n",
      "Número de imágenes de entrenamiento:  6327\n",
      "Epoch 1/100\n",
      " 94/198 [=============>................] - ETA: 23s - loss: 249.7016 - accuracy: 0.1041"
     ]
    },
    {
     "ename": "KeyboardInterrupt",
     "evalue": "",
     "output_type": "error",
     "traceback": [
      "\u001b[1;31m---------------------------------------------------------------------------\u001b[0m",
      "\u001b[1;31mKeyboardInterrupt\u001b[0m                         Traceback (most recent call last)",
      "\u001b[1;32mc:\\Users\\galla\\OneDrive\\Escritorio\\Francisco\\Etapa Estudiantil\\Universidad\\4 AÑO UNIVERSIDAD\\Inteligencia Artificial en las Organizaciones\\IA-Practica-Final\\IA-Practica-Final\\Desarrollo_Practica.ipynb Cell 27\u001b[0m line \u001b[0;36m3\n\u001b[0;32m     <a href='vscode-notebook-cell:/c%3A/Users/galla/OneDrive/Escritorio/Francisco/Etapa%20Estudiantil/Universidad/4%20A%C3%91O%20UNIVERSIDAD/Inteligencia%20Artificial%20en%20las%20Organizaciones/IA-Practica-Final/IA-Practica-Final/Desarrollo_Practica.ipynb#X35sZmlsZQ%3D%3D?line=30'>31</a>\u001b[0m modelo\u001b[39m.\u001b[39mcompile(optimizer\u001b[39m=\u001b[39mAdam(learning_rate\u001b[39m=\u001b[39m\u001b[39m0.01\u001b[39m), loss\u001b[39m=\u001b[39m\u001b[39m'\u001b[39m\u001b[39mcategorical_crossentropy\u001b[39m\u001b[39m'\u001b[39m, metrics\u001b[39m=\u001b[39m[\u001b[39m'\u001b[39m\u001b[39maccuracy\u001b[39m\u001b[39m'\u001b[39m])\n\u001b[0;32m     <a href='vscode-notebook-cell:/c%3A/Users/galla/OneDrive/Escritorio/Francisco/Etapa%20Estudiantil/Universidad/4%20A%C3%91O%20UNIVERSIDAD/Inteligencia%20Artificial%20en%20las%20Organizaciones/IA-Practica-Final/IA-Practica-Final/Desarrollo_Practica.ipynb#X35sZmlsZQ%3D%3D?line=32'>33</a>\u001b[0m \u001b[39m# Entrenamos el modelo \u001b[39;00m\n\u001b[1;32m---> <a href='vscode-notebook-cell:/c%3A/Users/galla/OneDrive/Escritorio/Francisco/Etapa%20Estudiantil/Universidad/4%20A%C3%91O%20UNIVERSIDAD/Inteligencia%20Artificial%20en%20las%20Organizaciones/IA-Practica-Final/IA-Practica-Final/Desarrollo_Practica.ipynb#X35sZmlsZQ%3D%3D?line=33'>34</a>\u001b[0m modelo \u001b[39m=\u001b[39m modelo\u001b[39m.\u001b[39;49mfit(generador_imagenes\u001b[39m.\u001b[39;49mflow(X_train, Y_train, batch_size\u001b[39m=\u001b[39;49m\u001b[39m32\u001b[39;49m), epochs\u001b[39m=\u001b[39;49m\u001b[39m100\u001b[39;49m, validation_data\u001b[39m=\u001b[39;49m(X_test, Y_test), callbacks\u001b[39m=\u001b[39;49m[checkpoint])\n",
      "File \u001b[1;32mc:\\Users\\galla\\AppData\\Local\\Programs\\Python\\Python39\\lib\\site-packages\\keras\\src\\utils\\traceback_utils.py:65\u001b[0m, in \u001b[0;36mfilter_traceback.<locals>.error_handler\u001b[1;34m(*args, **kwargs)\u001b[0m\n\u001b[0;32m     63\u001b[0m filtered_tb \u001b[39m=\u001b[39m \u001b[39mNone\u001b[39;00m\n\u001b[0;32m     64\u001b[0m \u001b[39mtry\u001b[39;00m:\n\u001b[1;32m---> 65\u001b[0m     \u001b[39mreturn\u001b[39;00m fn(\u001b[39m*\u001b[39margs, \u001b[39m*\u001b[39m\u001b[39m*\u001b[39mkwargs)\n\u001b[0;32m     66\u001b[0m \u001b[39mexcept\u001b[39;00m \u001b[39mException\u001b[39;00m \u001b[39mas\u001b[39;00m e:\n\u001b[0;32m     67\u001b[0m     filtered_tb \u001b[39m=\u001b[39m _process_traceback_frames(e\u001b[39m.\u001b[39m__traceback__)\n",
      "File \u001b[1;32mc:\\Users\\galla\\AppData\\Local\\Programs\\Python\\Python39\\lib\\site-packages\\keras\\src\\engine\\training.py:1807\u001b[0m, in \u001b[0;36mModel.fit\u001b[1;34m(self, x, y, batch_size, epochs, verbose, callbacks, validation_split, validation_data, shuffle, class_weight, sample_weight, initial_epoch, steps_per_epoch, validation_steps, validation_batch_size, validation_freq, max_queue_size, workers, use_multiprocessing)\u001b[0m\n\u001b[0;32m   1799\u001b[0m \u001b[39mwith\u001b[39;00m tf\u001b[39m.\u001b[39mprofiler\u001b[39m.\u001b[39mexperimental\u001b[39m.\u001b[39mTrace(\n\u001b[0;32m   1800\u001b[0m     \u001b[39m\"\u001b[39m\u001b[39mtrain\u001b[39m\u001b[39m\"\u001b[39m,\n\u001b[0;32m   1801\u001b[0m     epoch_num\u001b[39m=\u001b[39mepoch,\n\u001b[1;32m   (...)\u001b[0m\n\u001b[0;32m   1804\u001b[0m     _r\u001b[39m=\u001b[39m\u001b[39m1\u001b[39m,\n\u001b[0;32m   1805\u001b[0m ):\n\u001b[0;32m   1806\u001b[0m     callbacks\u001b[39m.\u001b[39mon_train_batch_begin(step)\n\u001b[1;32m-> 1807\u001b[0m     tmp_logs \u001b[39m=\u001b[39m \u001b[39mself\u001b[39;49m\u001b[39m.\u001b[39;49mtrain_function(iterator)\n\u001b[0;32m   1808\u001b[0m     \u001b[39mif\u001b[39;00m data_handler\u001b[39m.\u001b[39mshould_sync:\n\u001b[0;32m   1809\u001b[0m         context\u001b[39m.\u001b[39masync_wait()\n",
      "File \u001b[1;32mc:\\Users\\galla\\AppData\\Local\\Programs\\Python\\Python39\\lib\\site-packages\\tensorflow\\python\\util\\traceback_utils.py:150\u001b[0m, in \u001b[0;36mfilter_traceback.<locals>.error_handler\u001b[1;34m(*args, **kwargs)\u001b[0m\n\u001b[0;32m    148\u001b[0m filtered_tb \u001b[39m=\u001b[39m \u001b[39mNone\u001b[39;00m\n\u001b[0;32m    149\u001b[0m \u001b[39mtry\u001b[39;00m:\n\u001b[1;32m--> 150\u001b[0m   \u001b[39mreturn\u001b[39;00m fn(\u001b[39m*\u001b[39margs, \u001b[39m*\u001b[39m\u001b[39m*\u001b[39mkwargs)\n\u001b[0;32m    151\u001b[0m \u001b[39mexcept\u001b[39;00m \u001b[39mException\u001b[39;00m \u001b[39mas\u001b[39;00m e:\n\u001b[0;32m    152\u001b[0m   filtered_tb \u001b[39m=\u001b[39m _process_traceback_frames(e\u001b[39m.\u001b[39m__traceback__)\n",
      "File \u001b[1;32mc:\\Users\\galla\\AppData\\Local\\Programs\\Python\\Python39\\lib\\site-packages\\tensorflow\\python\\eager\\polymorphic_function\\polymorphic_function.py:832\u001b[0m, in \u001b[0;36mFunction.__call__\u001b[1;34m(self, *args, **kwds)\u001b[0m\n\u001b[0;32m    829\u001b[0m compiler \u001b[39m=\u001b[39m \u001b[39m\"\u001b[39m\u001b[39mxla\u001b[39m\u001b[39m\"\u001b[39m \u001b[39mif\u001b[39;00m \u001b[39mself\u001b[39m\u001b[39m.\u001b[39m_jit_compile \u001b[39melse\u001b[39;00m \u001b[39m\"\u001b[39m\u001b[39mnonXla\u001b[39m\u001b[39m\"\u001b[39m\n\u001b[0;32m    831\u001b[0m \u001b[39mwith\u001b[39;00m OptionalXlaContext(\u001b[39mself\u001b[39m\u001b[39m.\u001b[39m_jit_compile):\n\u001b[1;32m--> 832\u001b[0m   result \u001b[39m=\u001b[39m \u001b[39mself\u001b[39m\u001b[39m.\u001b[39m_call(\u001b[39m*\u001b[39margs, \u001b[39m*\u001b[39m\u001b[39m*\u001b[39mkwds)\n\u001b[0;32m    834\u001b[0m new_tracing_count \u001b[39m=\u001b[39m \u001b[39mself\u001b[39m\u001b[39m.\u001b[39mexperimental_get_tracing_count()\n\u001b[0;32m    835\u001b[0m without_tracing \u001b[39m=\u001b[39m (tracing_count \u001b[39m==\u001b[39m new_tracing_count)\n",
      "File \u001b[1;32mc:\\Users\\galla\\AppData\\Local\\Programs\\Python\\Python39\\lib\\site-packages\\tensorflow\\python\\eager\\polymorphic_function\\polymorphic_function.py:868\u001b[0m, in \u001b[0;36mFunction._call\u001b[1;34m(self, *args, **kwds)\u001b[0m\n\u001b[0;32m    865\u001b[0m   \u001b[39mself\u001b[39m\u001b[39m.\u001b[39m_lock\u001b[39m.\u001b[39mrelease()\n\u001b[0;32m    866\u001b[0m   \u001b[39m# In this case we have created variables on the first call, so we run the\u001b[39;00m\n\u001b[0;32m    867\u001b[0m   \u001b[39m# defunned version which is guaranteed to never create variables.\u001b[39;00m\n\u001b[1;32m--> 868\u001b[0m   \u001b[39mreturn\u001b[39;00m tracing_compilation\u001b[39m.\u001b[39;49mcall_function(\n\u001b[0;32m    869\u001b[0m       args, kwds, \u001b[39mself\u001b[39;49m\u001b[39m.\u001b[39;49m_no_variable_creation_config\n\u001b[0;32m    870\u001b[0m   )\n\u001b[0;32m    871\u001b[0m \u001b[39melif\u001b[39;00m \u001b[39mself\u001b[39m\u001b[39m.\u001b[39m_variable_creation_config \u001b[39mis\u001b[39;00m \u001b[39mnot\u001b[39;00m \u001b[39mNone\u001b[39;00m:\n\u001b[0;32m    872\u001b[0m   \u001b[39m# Release the lock early so that multiple threads can perform the call\u001b[39;00m\n\u001b[0;32m    873\u001b[0m   \u001b[39m# in parallel.\u001b[39;00m\n\u001b[0;32m    874\u001b[0m   \u001b[39mself\u001b[39m\u001b[39m.\u001b[39m_lock\u001b[39m.\u001b[39mrelease()\n",
      "File \u001b[1;32mc:\\Users\\galla\\AppData\\Local\\Programs\\Python\\Python39\\lib\\site-packages\\tensorflow\\python\\eager\\polymorphic_function\\tracing_compilation.py:139\u001b[0m, in \u001b[0;36mcall_function\u001b[1;34m(args, kwargs, tracing_options)\u001b[0m\n\u001b[0;32m    137\u001b[0m bound_args \u001b[39m=\u001b[39m function\u001b[39m.\u001b[39mfunction_type\u001b[39m.\u001b[39mbind(\u001b[39m*\u001b[39margs, \u001b[39m*\u001b[39m\u001b[39m*\u001b[39mkwargs)\n\u001b[0;32m    138\u001b[0m flat_inputs \u001b[39m=\u001b[39m function\u001b[39m.\u001b[39mfunction_type\u001b[39m.\u001b[39munpack_inputs(bound_args)\n\u001b[1;32m--> 139\u001b[0m \u001b[39mreturn\u001b[39;00m function\u001b[39m.\u001b[39;49m_call_flat(  \u001b[39m# pylint: disable=protected-access\u001b[39;49;00m\n\u001b[0;32m    140\u001b[0m     flat_inputs, captured_inputs\u001b[39m=\u001b[39;49mfunction\u001b[39m.\u001b[39;49mcaptured_inputs\n\u001b[0;32m    141\u001b[0m )\n",
      "File \u001b[1;32mc:\\Users\\galla\\AppData\\Local\\Programs\\Python\\Python39\\lib\\site-packages\\tensorflow\\python\\eager\\polymorphic_function\\concrete_function.py:1323\u001b[0m, in \u001b[0;36mConcreteFunction._call_flat\u001b[1;34m(self, tensor_inputs, captured_inputs)\u001b[0m\n\u001b[0;32m   1319\u001b[0m possible_gradient_type \u001b[39m=\u001b[39m gradients_util\u001b[39m.\u001b[39mPossibleTapeGradientTypes(args)\n\u001b[0;32m   1320\u001b[0m \u001b[39mif\u001b[39;00m (possible_gradient_type \u001b[39m==\u001b[39m gradients_util\u001b[39m.\u001b[39mPOSSIBLE_GRADIENT_TYPES_NONE\n\u001b[0;32m   1321\u001b[0m     \u001b[39mand\u001b[39;00m executing_eagerly):\n\u001b[0;32m   1322\u001b[0m   \u001b[39m# No tape is watching; skip to running the function.\u001b[39;00m\n\u001b[1;32m-> 1323\u001b[0m   \u001b[39mreturn\u001b[39;00m \u001b[39mself\u001b[39;49m\u001b[39m.\u001b[39;49m_inference_function\u001b[39m.\u001b[39;49mcall_preflattened(args)\n\u001b[0;32m   1324\u001b[0m forward_backward \u001b[39m=\u001b[39m \u001b[39mself\u001b[39m\u001b[39m.\u001b[39m_select_forward_and_backward_functions(\n\u001b[0;32m   1325\u001b[0m     args,\n\u001b[0;32m   1326\u001b[0m     possible_gradient_type,\n\u001b[0;32m   1327\u001b[0m     executing_eagerly)\n\u001b[0;32m   1328\u001b[0m forward_function, args_with_tangents \u001b[39m=\u001b[39m forward_backward\u001b[39m.\u001b[39mforward()\n",
      "File \u001b[1;32mc:\\Users\\galla\\AppData\\Local\\Programs\\Python\\Python39\\lib\\site-packages\\tensorflow\\python\\eager\\polymorphic_function\\atomic_function.py:216\u001b[0m, in \u001b[0;36mAtomicFunction.call_preflattened\u001b[1;34m(self, args)\u001b[0m\n\u001b[0;32m    214\u001b[0m \u001b[39mdef\u001b[39;00m \u001b[39mcall_preflattened\u001b[39m(\u001b[39mself\u001b[39m, args: Sequence[core\u001b[39m.\u001b[39mTensor]) \u001b[39m-\u001b[39m\u001b[39m>\u001b[39m Any:\n\u001b[0;32m    215\u001b[0m \u001b[39m  \u001b[39m\u001b[39m\"\"\"Calls with flattened tensor inputs and returns the structured output.\"\"\"\u001b[39;00m\n\u001b[1;32m--> 216\u001b[0m   flat_outputs \u001b[39m=\u001b[39m \u001b[39mself\u001b[39;49m\u001b[39m.\u001b[39;49mcall_flat(\u001b[39m*\u001b[39;49margs)\n\u001b[0;32m    217\u001b[0m   \u001b[39mreturn\u001b[39;00m \u001b[39mself\u001b[39m\u001b[39m.\u001b[39mfunction_type\u001b[39m.\u001b[39mpack_output(flat_outputs)\n",
      "File \u001b[1;32mc:\\Users\\galla\\AppData\\Local\\Programs\\Python\\Python39\\lib\\site-packages\\tensorflow\\python\\eager\\polymorphic_function\\atomic_function.py:251\u001b[0m, in \u001b[0;36mAtomicFunction.call_flat\u001b[1;34m(self, *args)\u001b[0m\n\u001b[0;32m    249\u001b[0m \u001b[39mwith\u001b[39;00m record\u001b[39m.\u001b[39mstop_recording():\n\u001b[0;32m    250\u001b[0m   \u001b[39mif\u001b[39;00m \u001b[39mself\u001b[39m\u001b[39m.\u001b[39m_bound_context\u001b[39m.\u001b[39mexecuting_eagerly():\n\u001b[1;32m--> 251\u001b[0m     outputs \u001b[39m=\u001b[39m \u001b[39mself\u001b[39;49m\u001b[39m.\u001b[39;49m_bound_context\u001b[39m.\u001b[39;49mcall_function(\n\u001b[0;32m    252\u001b[0m         \u001b[39mself\u001b[39;49m\u001b[39m.\u001b[39;49mname,\n\u001b[0;32m    253\u001b[0m         \u001b[39mlist\u001b[39;49m(args),\n\u001b[0;32m    254\u001b[0m         \u001b[39mlen\u001b[39;49m(\u001b[39mself\u001b[39;49m\u001b[39m.\u001b[39;49mfunction_type\u001b[39m.\u001b[39;49mflat_outputs),\n\u001b[0;32m    255\u001b[0m     )\n\u001b[0;32m    256\u001b[0m   \u001b[39melse\u001b[39;00m:\n\u001b[0;32m    257\u001b[0m     outputs \u001b[39m=\u001b[39m make_call_op_in_graph(\n\u001b[0;32m    258\u001b[0m         \u001b[39mself\u001b[39m,\n\u001b[0;32m    259\u001b[0m         \u001b[39mlist\u001b[39m(args),\n\u001b[0;32m    260\u001b[0m         \u001b[39mself\u001b[39m\u001b[39m.\u001b[39m_bound_context\u001b[39m.\u001b[39mfunction_call_options\u001b[39m.\u001b[39mas_attrs(),\n\u001b[0;32m    261\u001b[0m     )\n",
      "File \u001b[1;32mc:\\Users\\galla\\AppData\\Local\\Programs\\Python\\Python39\\lib\\site-packages\\tensorflow\\python\\eager\\context.py:1486\u001b[0m, in \u001b[0;36mContext.call_function\u001b[1;34m(self, name, tensor_inputs, num_outputs)\u001b[0m\n\u001b[0;32m   1484\u001b[0m cancellation_context \u001b[39m=\u001b[39m cancellation\u001b[39m.\u001b[39mcontext()\n\u001b[0;32m   1485\u001b[0m \u001b[39mif\u001b[39;00m cancellation_context \u001b[39mis\u001b[39;00m \u001b[39mNone\u001b[39;00m:\n\u001b[1;32m-> 1486\u001b[0m   outputs \u001b[39m=\u001b[39m execute\u001b[39m.\u001b[39;49mexecute(\n\u001b[0;32m   1487\u001b[0m       name\u001b[39m.\u001b[39;49mdecode(\u001b[39m\"\u001b[39;49m\u001b[39mutf-8\u001b[39;49m\u001b[39m\"\u001b[39;49m),\n\u001b[0;32m   1488\u001b[0m       num_outputs\u001b[39m=\u001b[39;49mnum_outputs,\n\u001b[0;32m   1489\u001b[0m       inputs\u001b[39m=\u001b[39;49mtensor_inputs,\n\u001b[0;32m   1490\u001b[0m       attrs\u001b[39m=\u001b[39;49mattrs,\n\u001b[0;32m   1491\u001b[0m       ctx\u001b[39m=\u001b[39;49m\u001b[39mself\u001b[39;49m,\n\u001b[0;32m   1492\u001b[0m   )\n\u001b[0;32m   1493\u001b[0m \u001b[39melse\u001b[39;00m:\n\u001b[0;32m   1494\u001b[0m   outputs \u001b[39m=\u001b[39m execute\u001b[39m.\u001b[39mexecute_with_cancellation(\n\u001b[0;32m   1495\u001b[0m       name\u001b[39m.\u001b[39mdecode(\u001b[39m\"\u001b[39m\u001b[39mutf-8\u001b[39m\u001b[39m\"\u001b[39m),\n\u001b[0;32m   1496\u001b[0m       num_outputs\u001b[39m=\u001b[39mnum_outputs,\n\u001b[1;32m   (...)\u001b[0m\n\u001b[0;32m   1500\u001b[0m       cancellation_manager\u001b[39m=\u001b[39mcancellation_context,\n\u001b[0;32m   1501\u001b[0m   )\n",
      "File \u001b[1;32mc:\\Users\\galla\\AppData\\Local\\Programs\\Python\\Python39\\lib\\site-packages\\tensorflow\\python\\eager\\execute.py:53\u001b[0m, in \u001b[0;36mquick_execute\u001b[1;34m(op_name, num_outputs, inputs, attrs, ctx, name)\u001b[0m\n\u001b[0;32m     51\u001b[0m \u001b[39mtry\u001b[39;00m:\n\u001b[0;32m     52\u001b[0m   ctx\u001b[39m.\u001b[39mensure_initialized()\n\u001b[1;32m---> 53\u001b[0m   tensors \u001b[39m=\u001b[39m pywrap_tfe\u001b[39m.\u001b[39;49mTFE_Py_Execute(ctx\u001b[39m.\u001b[39;49m_handle, device_name, op_name,\n\u001b[0;32m     54\u001b[0m                                       inputs, attrs, num_outputs)\n\u001b[0;32m     55\u001b[0m \u001b[39mexcept\u001b[39;00m core\u001b[39m.\u001b[39m_NotOkStatusException \u001b[39mas\u001b[39;00m e:\n\u001b[0;32m     56\u001b[0m   \u001b[39mif\u001b[39;00m name \u001b[39mis\u001b[39;00m \u001b[39mnot\u001b[39;00m \u001b[39mNone\u001b[39;00m:\n",
      "\u001b[1;31mKeyboardInterrupt\u001b[0m: "
     ]
    }
   ],
   "source": [
    "# Script de Construcción del modelo\n",
    "\n",
    "# Importar librerías\n",
    "from keras.models import Sequential\n",
    "from keras.layers import Dense, Conv2D, MaxPooling2D, Flatten, Dropout\n",
    "from keras.optimizers import Adam\n",
    "from keras.callbacks import ModelCheckpoint\n",
    "\n",
    "# Definimos el modelo\n",
    "modelo = Sequential()\n",
    "modelo.add(Conv2D(32, (3, 3), activation='relu', input_shape=(128, 128, 3), padding='same', kernel_initializer='he_normal'))\n",
    "modelo.add(MaxPooling2D((2, 2)))\n",
    "modelo.add(Conv2D(64, (3, 3), activation='relu'))\n",
    "modelo.add(MaxPooling2D((2, 2)))\n",
    "\n",
    "modelo.add(Flatten())\n",
    "modelo.add(Dense(64, activation='relu'))\n",
    "modelo.add(Dropout(0.5))\n",
    "modelo.add(Dense(20, activation='softmax'))\n",
    "\n",
    "# Mostramos un resumen del modelo\n",
    "modelo.summary()\n",
    "\n",
    "# Printear todas las imagenes que usa el modelo (len)\n",
    "print(\"Número de imágenes de entrenamiento: \", len(X_train))\n",
    "\n",
    "# Checkpoint para guardar el modelo\n",
    "checkpoint = ModelCheckpoint('modelo_pokemon.h5', monitor='val_accuracy', verbose=1, save_best_only=True, mode='auto')\n",
    "\n",
    "# Compilamos el modelo\n",
    "modelo.compile(optimizer=Adam(learning_rate=0.01), loss='categorical_crossentropy', metrics=['accuracy'])\n",
    "\n",
    "# Entrenamos el modelo con las imágenes generadas \n",
    "modelo = modelo.fit(X_train, Y_train, epochs=10, batch_size=32, validation_data=(X_test, Y_test), callbacks=[checkpoint])"
   ]
  }
 ],
 "metadata": {
  "kernelspec": {
   "display_name": "Python 3.9.7 64-bit",
   "language": "python",
   "name": "python3"
  },
  "language_info": {
   "codemirror_mode": {
    "name": "ipython",
    "version": 3
   },
   "file_extension": ".py",
   "mimetype": "text/x-python",
   "name": "python",
   "nbconvert_exporter": "python",
   "pygments_lexer": "ipython3",
   "version": "3.9.7"
  },
  "vscode": {
   "interpreter": {
    "hash": "e21126de3de0b02901272bc1080c53c327c2c88e32dda9e696532b5930d739af"
   }
  }
 },
 "nbformat": 4,
 "nbformat_minor": 2
}
